{
  "cells": [
    {
      "cell_type": "markdown",
      "metadata": {
        "id": "view-in-github",
        "colab_type": "text"
      },
      "source": [
        "<a href=\"https://colab.research.google.com/github/zlisto/opinion_dynamics/blob/main/Multi_Followers_Augmented_Agent_Bang_Bang_Policy_v2_YS.ipynb\" target=\"_parent\"><img src=\"https://colab.research.google.com/assets/colab-badge.svg\" alt=\"Open In Colab\"/></a>"
      ]
    },
    {
      "cell_type": "markdown",
      "metadata": {
        "id": "3qJmmKkFoeeN"
      },
      "source": [
        "# Non-linear Opinion Dynamics with Embedded Agent and Bang Bang Policy \n",
        "\n",
        "This notebook solves for an optimal policy for agents trying to minimize a function of the opinions in a network at a given final time under nonlinear opinion dynamics using an augmented agent and a bang bang policy.   We have to specify the network, initial opinions, and tweet rates of the users.  We also specify the agents' rates and targets (followers) in the network.  We specify the opinion shift functions for the opinion dynamics.  We specify the duration and temporal resolution of the opinion dynamics simulator.  And we specify the agents' objective function.\n",
        "\n",
        "\n"
      ]
    },
    {
      "cell_type": "markdown",
      "metadata": {
        "id": "q4DnWQM_IlwH"
      },
      "source": [
        "# Import packages"
      ]
    },
    {
      "cell_type": "code",
      "execution_count": 2,
      "metadata": {
        "id": "_K9QI0hDoeeO"
      },
      "outputs": [],
      "source": [
        "import os\n",
        "import numpy as np\n",
        "from scipy import integrate\n",
        "from scipy.sparse import coo_matrix,diags\n",
        "import scipy\n",
        "import math\n",
        "import matplotlib.pyplot as plt\n",
        "import networkx as nx\n",
        "from networkx.readwrite import json_graph\n",
        "\n",
        "import json\n",
        "\n",
        "import matplotlib.cm as cm\n",
        "from matplotlib.colors import Normalize\n",
        "import seaborn as sns\n",
        "import pandas as pd\n",
        "import time\n",
        "\n",
        "from typing import List, Set, Dict, Tuple\n"
      ]
    },
    {
      "cell_type": "markdown",
      "source": [
        "# Mount Google Drive\n",
        "\n",
        "The data files are located in  the Google Drive path."
      ],
      "metadata": {
        "id": "ztTboFB9i7IL"
      }
    },
    {
      "cell_type": "code",
      "source": [
        "from google.colab import drive\n",
        "drive.mount('/content/drive')\n",
        "\n",
        "os.chdir(\"/content/drive/My Drive/Colab Notebooks/ControlTheoryOpinions\")\n",
        "os.listdir()"
      ],
      "metadata": {
        "colab": {
          "base_uri": "https://localhost:8080/"
        },
        "id": "T44a-ehpiyKD",
        "outputId": "50e4d9f8-5703-4c67-ead4-1eda5cedf9ea"
      },
      "execution_count": 3,
      "outputs": [
        {
          "output_type": "stream",
          "name": "stdout",
          "text": [
            "Mounted at /content/drive\n"
          ]
        },
        {
          "output_type": "execute_result",
          "data": {
            "text/plain": [
              "['20210928_1st_year_paper_v8_YS.pdf',\n",
              " 'test_network_01.json',\n",
              " 'test_network_02.json',\n",
              " 'test_network_custom_02.json',\n",
              " 'test_network_custom_03.json',\n",
              " 'test_network_custom_01.json',\n",
              " 'test_network_embed_01.json',\n",
              " 'test_network_newman_watts_strogatz_01.json',\n",
              " 'Agent Opinion Bang Bang Solver.ipynb',\n",
              " 'Input Network for Bang Bang.ipynb',\n",
              " 'Agent Opinion Augmented Agent Bang Bang Policy.ipynb',\n",
              " 'test_network_2-follower_01.json',\n",
              " 'Agent Opinion Augmented Agent Bang Bang Policy_v2_YS.ipynb']"
            ]
          },
          "metadata": {},
          "execution_count": 3
        }
      ]
    },
    {
      "cell_type": "markdown",
      "metadata": {
        "id": "hjpO08nGoeef"
      },
      "source": [
        "# Helper functions\n",
        "\n",
        "Functions to simulate the opinion and adjoint dynamics.\n",
        "\n",
        "\n",
        "\n",
        "1.   step_fast() will make on step forward in the opinion dynamics given current opinions, adjoint variables P, Rates for all users, Followers_list (the network structure), agent_opinion, agent_rate, Targets_index (set of the index of all targets of the agent.  We need the index because we are dealing with arrays for the Opinions and P).\n",
        "2.   simulate_opinion() will run the opinion dynamics from an initial condition Opinions0 using a time discretization size *tstep* for *nsteps* steps.\n",
        "\n",
        "3. simulate_adjoint_resverse() will run the *adjoint dynamics* in reverse from a final condition $P_f$, with computed opinions Opinions, using a time discretization size *tstep* for *nsteps* steps.\n",
        "\n",
        "5. boundary_condition_Pf()\n",
        "\n",
        "6. objective_value()\n",
        "\n",
        "7. Plot_opinion_P_quantiles()\n",
        "\n",
        "\n",
        "\n",
        "\n"
      ]
    },
    {
      "cell_type": "code",
      "execution_count": 4,
      "metadata": {
        "id": "t2xUFloxoeef"
      },
      "outputs": [],
      "source": [
        "def step_fast(Opinions:np.ndarray, P:np.ndarray, Rates:List, A:scipy.sparse.coo.coo_matrix, \n",
        "              agent_opinions:List, agent_rates:List, Targets_indices:List):\n",
        "    n = len(Rates)\n",
        "    data = shift(Opinions[A.row]- Opinions[A.col],tau,omega) #shift value\n",
        "    ddata = dshift(Opinions[A.row]- Opinions[A.col],tau,omega) #dshift value\n",
        "    Shift_matrix = coo_matrix((data, (A.row, A.col)), shape=A.shape) #create shift matrix in coordinate format (row index, col index, value)\n",
        "    dShift_matrix = coo_matrix((ddata, (A.row, A.col)), shape=A.shape) #create dshift matrix in coordinate format (row index, col index, value)\n",
        "    Rate_matrix = diags(Rates,0) #create a diagonal matrix with Rates values\n",
        "\n",
        "    D = Rate_matrix @ Shift_matrix # matrix multiply\n",
        "    Dxdt_no_agent = D.sum(axis = 0).A1 #contribution from following of node\n",
        "    dD = Rate_matrix @ dShift_matrix\n",
        "    dd = dD.sum(axis=0).A1\n",
        "    L = P*dd #contribution from following of node (its Leaders)\n",
        "    F = dD @ P  #contribution from followers of node (its Followers)\n",
        "    Dxdt = Dxdt_no_agent\n",
        "    Dpdt = L-F\n",
        "\n",
        "    for (agent_opinion,agent_rate,targets_index) in zip(agent_opinions, agent_rates, Targets_indices):\n",
        "        b = np.zeros(n)\n",
        "        b[list(targets_index)]= agent_rate\n",
        "        Dxdt_agent = b*shift(agent_opinion-Opinions,tau,omega)  #contribution from agent\n",
        "        Dxdt += Dxdt_agent\n",
        "        LA = P*b*dshift(agent_opinion-Opinions,tau,omega) #contribution from agent (its Leader Agent)\n",
        "        Dpdt += LA\n",
        "    return (Dxdt,Dpdt)\n",
        "\n",
        "def step_fast_opinions(Opinions:np.ndarray, Rates:List, A:scipy.sparse.coo.coo_matrix, \n",
        "              agent_opinions:List, agent_rates:List, Targets_indices:List):\n",
        "    n = len(Rates)\n",
        "    data = shift(Opinions[A.row]- Opinions[A.col],tau,omega) #shift value\n",
        "    ddata = dshift(Opinions[A.row]- Opinions[A.col],tau,omega) #dshift value\n",
        "    Shift_matrix = coo_matrix((data, (A.row, A.col)), shape=A.shape) #create shift matrix in coordinate format (row index, col index, value)\n",
        "    dShift_matrix = coo_matrix((ddata, (A.row, A.col)), shape=A.shape) #create dshift matrix in coordinate format (row index, col index, value)\n",
        "    Rate_matrix = diags(Rates,0) #create a diagonal matrix with Rates values\n",
        "\n",
        "    D = Rate_matrix @ Shift_matrix # matrix multiply\n",
        "    Dxdt_no_agent = D.sum(axis = 0).A1 #contribution from following of node\n",
        "    dD = Rate_matrix @ dShift_matrix\n",
        "    dd = dD.sum(axis=0).A1\n",
        "    Dxdt = Dxdt_no_agent\n",
        "\n",
        "    for (agent_opinion,agent_rate,targets_index) in zip(agent_opinions, agent_rates, Targets_indices):\n",
        "        b = np.zeros(n)\n",
        "        b[list(targets_index)]= agent_rate\n",
        "        Dxdt_agent = b*shift(agent_opinion-Opinions,tau,omega)  #contribution from agent\n",
        "        Dxdt += Dxdt_agent\n",
        "\n",
        "    return Dxdt\n",
        "\n",
        "def simulate_opinion(Opinions0:np.ndarray, Rates:List, A:scipy.sparse.coo.coo_matrix, \n",
        "                     Agent_opinions:np.ndarray, agent_rates:List, \n",
        "                     Targets_indices:List[List], nsteps:int, tstep:float):\n",
        "    n =len(Opinions0)\n",
        "    Opinions = np.zeros((nsteps,n))\n",
        "    P = np.zeros(n)\n",
        "    for i in range(nsteps):    \n",
        "        if i==0:\n",
        "            Opinions[i,:] = Opinions0\n",
        "        else:\n",
        "            agent_opinions = Agent_opinions[i-1,:]\n",
        "            opinions = Opinions[i-1,:]\n",
        "            (Dxdt,Dpdt) = step_fast(opinions, P, Rates, A, agent_opinions, agent_rates, Targets_indices)\n",
        "            opinions_new = opinions+Dxdt*tstep\n",
        "            opinions_new = np.maximum(np.minimum(opinions_new,np.ones(n)),np.zeros(n))\n",
        "            Opinions[i,:] = opinions_new\n",
        "    T = np.arange(0,nsteps*tstep,tstep)\n",
        "    return (T,Opinions)\n",
        "\n",
        "def simulate_adjoint_reverse(Pf:np.ndarray, Opinions:np.ndarray, Rates:List, A:scipy.sparse.coo.coo_matrix, \n",
        "                             Agent_opinions:np.ndarray, agent_rates:List, Targets_indices:List, \n",
        "                             nsteps:int, tstep:float):\n",
        "    assert Agent_opinions.shape[0]==Opinions.shape[0]\n",
        "    n =len(Pf)\n",
        "    P = np.zeros((nsteps,n))\n",
        "\n",
        "    for i in range(nsteps):  \n",
        "        if i==0:\n",
        "            P[nsteps-1-i,:] = Pf\n",
        "        else:\n",
        "            agent_opinions = Agent_opinions[nsteps-i,:]\n",
        "            (Dxdt,Dpdt) = step_fast(Opinions[nsteps-i,:], P[nsteps-i,:], Rates, A, agent_opinions, agent_rates, Targets_indices)\n",
        "            P[nsteps-1-i,:] = P[nsteps-i,:] - Dpdt*tstep\n",
        "    T = np.arange(0,nsteps*tstep,tstep)\n",
        "    return (T,P)\n",
        "\n",
        "def simulate_opinion_bangbang_one_follower(Opinions0:np.ndarray, Rates:List, A:scipy.sparse.coo.coo_matrix, \n",
        "                     agent_rates:List, Targets_indices:List[List], nsteps:int, tstep:float,ts:float):\n",
        "    n =len(Opinions0)\n",
        "    nagents = len(Targets_indices)\n",
        "    Opinions = np.zeros((nsteps,n))\n",
        "    Opinions_agents= np.zeros((nsteps,nagents))\n",
        "    for i in range(nsteps):\n",
        "        t = tstep*i\n",
        "        if i==0:\n",
        "            Opinions[i,:] = Opinions0\n",
        "        else:\n",
        "            opinions = Opinions[i-1,:]\n",
        "            agents_opinion=[]\n",
        "            na = 0\n",
        "            for targets_indices in Targets_indices:\n",
        "                agent_opinion = opinions[targets_indices[0]] + tau*np.sign(t-ts)  #agent is conf. bound away from follower\n",
        "                agent_opinion =min(max(agent_opinion,0),1)\n",
        "                agents_opinion.append(agent_opinion)\n",
        "                Opinions_agents[i-1,na] =agent_opinion\n",
        "                na+=1\n",
        "            Dxdt = step_fast_opinions(opinions, Rates, A, agents_opinion, agent_rates, Targets_indices)\n",
        "            opinions_new = opinions+Dxdt*tstep\n",
        "            opinions_new = np.maximum(np.minimum(opinions_new,np.ones(n)),np.zeros(n))\n",
        "            Opinions[i,:] = opinions_new\n",
        "    T = np.arange(0,nsteps*tstep,tstep)\n",
        "    return (T, Opinions, Opinions_agents)\n",
        "\n",
        "\n",
        "def boundary_condition_Pf(OBJECTIVE:str, Opinions:np.ndarray, opinion_target = 0.5):\n",
        "    n = Opinions.shape[1]  #number of nodes in network (not counting agents)\n",
        "    if OBJECTIVE == \"MEAN\":\n",
        "        Pf = -np.ones(n) #final adjoint value for mean objective\n",
        "    elif OBJECTIVE == \"VARIANCE\":\n",
        "        Pf = -(Opinions[-1,:] - np.mean(Opinions[-1,:])) #final adjoint value for variance objective\n",
        "    elif OBJECTIVE == \"TARGET\":\n",
        "        Pf = (Opinions[-1,:] - opinion_target) #final adjoint value for target objective\n",
        "    return Pf\n",
        "\n",
        "def objective_value(OBJECTIVE:str,Opinions:np.ndarray,opinion_target=0.5):\n",
        "    if OBJECTIVE == \"MEAN\":\n",
        "        objective = -np.mean(Opinions[-1,:])  #maximize mean\n",
        "    elif OBJECTIVE == \"VARIANCE\":\n",
        "        objective = -np.var(Opinions[-1,:])  #maximize variance\n",
        "    elif OBJECTIVE == \"TARGET\":\n",
        "        objective = np.sqrt(np.mean((Opinions[-1,:]-opinion_target)**2))  #hit a target opinion\n",
        "    return objective\n",
        "\n",
        "\n",
        "\n",
        "\n",
        "\n",
        "def plot_opinion_quantiles(T:np.ndarray,Opinions:np.ndarray):\n",
        "    Q05 = np.quantile(Opinions,0.05,axis = 1)\n",
        "    Q95 = np.quantile(Opinions,0.95,axis = 1)\n",
        "    Q50 = np.quantile(Opinions,0.50,axis = 1)\n",
        "    Q25 = np.quantile(Opinions,0.25,axis = 1)\n",
        "    Q75 = np.quantile(Opinions,0.75,axis = 1)\n",
        "\n",
        "    plt.plot(T,Q05,color = 'black')\n",
        "    plt.plot(T,Q95,color = 'black')\n",
        "    plt.fill_between(T, Q05, Q95,alpha=0.2)\n",
        "    plt.plot(T,Q25,color = 'black')\n",
        "    plt.plot(T,Q75,color = 'black')\n",
        "    plt.fill_between(T, Q25, Q75,alpha=0.2)\n",
        "    plt.plot(T,Q50,color = 'blue')\n",
        "    plt.ylabel('Opinion',fontsize = 18)\n",
        "    plt.xlabel('Time',fontsize = 18)\n",
        "    plt.ylim([0,1])\n",
        "\n",
        "\n",
        "\n",
        "def visualize_network(G0:nx.DiGraph,Opinions0:np.ndarray, Rates:np.ndarray):\n",
        "    # Visualize network if ain't too big\n",
        "    G = None\n",
        "    if G0.number_of_nodes()<=100:\n",
        "        G = nx.DiGraph()\n",
        "        for cnt,v in enumerate(G0.nodes()):\n",
        "            opinion = Opinions0[cnt]\n",
        "            rate = Rates[cnt]\n",
        "            G.add_node(v, Name =v, InitialOpinion=opinion, Rate=1)\n",
        "            followers = G0.successors(v)\n",
        "        for follower in followers:\n",
        "            print(f\"edge {(v,follower)}\")\n",
        "            G.add_edge(v,follower,weight = rate)\n",
        "\n",
        "        cnt = 0\n",
        "        for targets,agent_rate in zip(Targets,agent_rates):\n",
        "            G.add_node(f\"A{cnt}\")\n",
        "        for v in targets:\n",
        "            G.add_edge(f\"A{cnt}\",v, weight = agent_rate)\n",
        "            cnt+=1\n",
        "            edgewidth = [ 1*d['weight'] for (u,v,d) in G.edges(data=True)]\n",
        "\n",
        "        pos = nx.kamada_kawai_layout(G)  # positions for all nodes\n",
        "        pos[\"Agent\"] = (0,-2)\n",
        "        fig = plt.figure(figsize=(8,8))\n",
        "        nx.draw(G, pos,width=1.5,node_color=\"red\",edge_color=\"purple\",node_size=500)\n",
        "        nx.draw_networkx_edges(G, pos, width=edgewidth,edge_color=\"purple\")\n",
        "        nx.draw_networkx_labels(G, pos,font_size=17,font_color=\"black\")\n",
        "        fig.set_facecolor(\"#00000F\")\n",
        "        plt.show()\n",
        "    else:\n",
        "        print(f\"network has {G0.number_of_nodes()} nodes, too big to draw\")\n",
        "    return G\n",
        "\n",
        "\n"
      ]
    },
    {
      "cell_type": "markdown",
      "metadata": {
        "id": "3RAYpiEGeNEa"
      },
      "source": [
        "# Inputs\n",
        "\n",
        "1) Network information:\n",
        ">  a) `fname_network` = string name of JSON file containing the input network, tweet rates, and initial opinions of all users\n",
        "\n",
        "\n",
        "2) Agents/bots information:\n",
        ">  a) `agents_rates` = list of tweet rates of the agents\n",
        "\n",
        ">  b) `agents_targets` = list of list of screen names of targets of each agent\n",
        "\n",
        "3) Opinion dynamics information:\n",
        ">  a) `omega`, `tau`  = float parameters that specify opinion dynamics\n",
        "\n",
        "4) Objective function of agent\n",
        "> a) `OBJECTIVE` = string of type of function of the opinions for the agent to maximize or minimize.  Can take 3 values:MEAN,  VARIANCE, or TARGET \n",
        "\n",
        "4) Simulator time parameters\n",
        "> a) `tmax` = final time for simulation in [time units]\n",
        "\n",
        "> b) `tstep` = time step for the simulation in [time units]. This is dt in the Euler step.  x(t+tstep) = x(t)+tstep*dx/dt\n",
        "\n",
        "\n",
        "\n"
      ]
    },
    {
      "cell_type": "markdown",
      "source": [
        "## Config network"
      ],
      "metadata": {
        "id": "wDUWbDRjqltx"
      }
    },
    {
      "cell_type": "code",
      "execution_count": 5,
      "metadata": {
        "colab": {
          "base_uri": "https://localhost:8080/",
          "height": 387
        },
        "id": "v6Ju63cdeNEa",
        "outputId": "226266ca-76cd-46d8-e01d-473d6a8499e2"
      },
      "outputs": [
        {
          "output_type": "stream",
          "name": "stdout",
          "text": [
            "Network has 3 nodes, 2 edges, 1 agents\n",
            "A: {'opinion': 1.0, 'rate': 1.0}\n",
            "One: {'opinion': 0.7, 'rate': 1.0}\n",
            "Two: {'opinion': 0.1, 'rate': 1.0}\n"
          ]
        },
        {
          "output_type": "display_data",
          "data": {
            "image/png": "[encoded data removed]",
            "text/plain": [
              "<Figure size 432x288 with 1 Axes>"
            ]
          },
          "metadata": {}
        }
      ],
      "source": [
        "#INPUTS\n",
        "\n",
        "#Network info\n",
        "fname_network = \"test_network_2-follower_01.json\"\n",
        "agents_rates = [1]\n",
        "agents_targets = [['A']]\n",
        "\n",
        "#opinion dynamics info\n",
        "omega = 1 # strength of persuasion\n",
        "tau = 0.02 # confidence interval, easiness to pursuade\n",
        "\n",
        "#objective function \n",
        "OBJECTIVE = 'MEAN'  #OBJECTIVE can be \"MEAN\" (maximize mean), \"VARIANCE\" (maximize variance), \"TARGET\" (minimize RMS to target opinion)\n",
        "\n",
        "\n",
        "# simulation time parameters\n",
        "tmax = 100  #tmax = tf = final time for simulation in [time units]\n",
        "tstep = 0.05 #tstep = time step for the simulation in [time units]. This is dt in the Euler step.  x(t+tstep) = x(t)+tstep*dx/dt\n",
        "\n",
        "INPUT = (fname_network,agents_rates,agents_targets,omega,tau,OBJECTIVE,tmax,tstep)\n",
        "\n",
        "data = json.load(open(fname_network,'r'))\n",
        "G0 = json_graph.node_link_graph(data)\n",
        "\n",
        "#adjacency matrix of network\n",
        "A = nx.adjacency_matrix(G0)\n",
        "A = A.tocoo()\n",
        "n = A.shape[0]  #number of nodes in network\n",
        "nagents = len(agents_rates)\n",
        "rates = np.array([G0.nodes[v][\"rate\"] for v in G0.nodes()])\n",
        "opinions0 = np.array([G0.nodes[v][\"opinion\"] for v in G0.nodes()])\n",
        "\n",
        "\n",
        "print(f\"Network has {n} nodes, {G0.number_of_edges()} edges, {nagents} agents\")\n",
        "\n",
        "if n<=50:\n",
        "    colors = []\n",
        "    for v in G0.nodes():\n",
        "        print(f\"{v}: {G0.nodes[v]}\")\n",
        "        if G0.nodes[v]['opinion']<=0.5:\n",
        "            colors.append('blue')\n",
        "        else:\n",
        "            colors.append('red')\n",
        "    pos = nx.kamada_kawai_layout(G0)\n",
        "    nx.draw(G0,pos, node_color = colors)\n",
        "    nx.draw_networkx_labels(G0,pos)"
      ]
    },
    {
      "cell_type": "markdown",
      "metadata": {
        "id": "a6oo8NhfoeeS"
      },
      "source": [
        "## Shift function\n",
        "\n",
        "Create function that gives the opinion shift and derivative of the opinion shift in the opinion dynamics.     For the opinion dynamics these functions are shift and dshift, respectively. You can have extra parameters for these functions, but the first argument is the opinion difference between the following and follower.  To be precise, if the opinion of the person tweeting\n",
        "is $\\theta_{tweet}$ and the opinion of the person who hears the tweet is $\\theta$, then the input to the shift and dshift functions should be $x = \\theta_{tweet}-\\theta$. \n",
        "\n",
        "We define `shift_max` as the maximum of the shift function.  We need this when we solve for the bang bang policy of the agent.\n",
        "\n",
        " \n",
        "\n"
      ]
    },
    {
      "cell_type": "code",
      "execution_count": 6,
      "metadata": {
        "colab": {
          "base_uri": "https://localhost:8080/",
          "height": 404
        },
        "id": "gyl3d9yhoeeS",
        "outputId": "6bcc7b1f-7337-4922-9a36-342bfc31af96"
      },
      "outputs": [
        {
          "output_type": "display_data",
          "data": {
            "image/png": "[encoded data removed]",
            "text/plain": [
              "<Figure size 1440x576 with 2 Axes>"
            ]
          },
          "metadata": {
            "needs_background": "light"
          }
        }
      ],
      "source": [
        "confidence_bound_decay = 1\n",
        "#shift function f\n",
        "def shift(x,tau,omega):\n",
        "    y = omega *x*np.exp(-np.abs(x/tau)**confidence_bound_decay/2+1/2)\n",
        "    #y = omega*x*(np.heaviside(x+tau,1)-np.heaviside(x-tau,0))\n",
        "    return(y)\n",
        "\n",
        "#derivative of shift function g\n",
        "def dshift(x,tau,omega):\n",
        "    y = omega*np.exp(-(x/tau)**confidence_bound_decay/2+1/2)*(1-confidence_bound_decay/2*np.abs(x/tau)**(confidence_bound_decay))\n",
        "    return(y)\n",
        "\n",
        "\n",
        "x = np.arange(-1,1,.001)\n",
        "shift_max = np.max(shift(x,tau,omega))\n",
        "\n",
        "\n",
        "#plot the shift function to see how it looks\n",
        "plt.figure(figsize =(20,8))\n",
        "plt.subplot(1,2,1)\n",
        "plt.plot(x,shift(x,tau,omega),label = f'shift\\ntau = {tau}\\nomega = {omega}\\nmax f = {shift_max:.3f} ',marker='.')\n",
        "plt.legend()\n",
        "plt.xlabel('Opinion difference',fontsize = 16)\n",
        "plt.grid()\n",
        "\n",
        "plt.subplot(1,2,2)\n",
        "plt.plot(x,dshift(x,tau,omega),label = f'derivative of shift\\ntau = {tau}, omega = {omega} ',color = 'orange',marker='.')\n",
        "plt.legend()\n",
        "plt.xlabel('Opinion difference',fontsize = 16)\n",
        "plt.grid()\n",
        "plt.show()"
      ]
    },
    {
      "cell_type": "markdown",
      "metadata": {
        "id": "ST2VtCjReNEi"
      },
      "source": [
        "# Embed Augmented Agents to Network\n",
        "\n",
        "Create a network `Gembed` which has the augmented agents embedded in the network.  You will also create variables `Aembed`, `rates_embed`, `opinions0_embed`."
      ]
    },
    {
      "cell_type": "code",
      "execution_count": 7,
      "metadata": {
        "colab": {
          "base_uri": "https://localhost:8080/",
          "height": 403
        },
        "id": "a-ZhY3V5eNEi",
        "outputId": "b298987c-5d42-49c0-9bad-ca51f4bf0804"
      },
      "outputs": [
        {
          "output_type": "stream",
          "name": "stdout",
          "text": [
            "A: {'opinion': 1.0, 'rate': 1.0}\n",
            "One: {'opinion': 0.7, 'rate': 1.0}\n",
            "Two: {'opinion': 0.1, 'rate': 1.0}\n",
            "AA_0: {'opinion': 0.5, 'rate': 1}\n"
          ]
        },
        {
          "output_type": "display_data",
          "data": {
            "image/png": "[encoded data removed]",
            "text/plain": [
              "<Figure size 432x288 with 1 Axes>"
            ]
          },
          "metadata": {}
        }
      ],
      "source": [
        "agents_targets_embed = []\n",
        "agents_rates_embed = []\n",
        "\n",
        "Gagent = nx.DiGraph()\n",
        "for cnt,targets in enumerate(agents_targets):\n",
        "    agent = f\"AA_{cnt}\"\n",
        "    agents_targets_embed.append([agent])\n",
        "    Gagent.add_node(agent)\n",
        "    Gagent.nodes[agent][\"opinion\"] = 0.5\n",
        "    Gagent.nodes[agent][\"rate\"] = agents_rates[cnt]\n",
        "    agents_rates_embed.append(1)\n",
        "    for target in targets:\n",
        "        Gagent.add_edge(agent,target)\n",
        "\n",
        "Gembed = nx.compose(G0,Gagent)\n",
        "\n",
        "#adjacency matrix of network\n",
        "Aembed = nx.adjacency_matrix(Gembed)\n",
        "Aembed = Aembed.tocoo()\n",
        "n_embed = Aembed.shape[0]  #number of nodes in augmented network\n",
        "rates_embed = np.array([Gembed.nodes[v][\"rate\"] for v in Gembed.nodes()])\n",
        "opinions0_embed = np.array([Gembed.nodes[v][\"opinion\"] for v in Gembed.nodes()])\n",
        "\n",
        "if n<=50:\n",
        "    colors = []\n",
        "    for v in Gembed.nodes():\n",
        "        print(f\"{v}: {Gembed.nodes[v]}\")\n",
        "        if \"AA_\" in v:\n",
        "            color = 'green'\n",
        "        elif Gembed.nodes[v]['opinion']<=0.5:\n",
        "            color = 'blue'\n",
        "        else:\n",
        "            color = 'red'\n",
        "        colors.append(color)\n",
        "          \n",
        "    pos = nx.kamada_kawai_layout(Gembed)\n",
        "    nx.draw(Gembed,pos, node_color = colors)\n",
        "    nx.draw_networkx_labels(Gembed,pos)\n",
        "    plt.title(\"Augmented Agent Network\")"
      ]
    },
    {
      "cell_type": "markdown",
      "metadata": {
        "id": "_IgNcDPNeNEk"
      },
      "source": [
        "# Define Node Indices in Augmented Network\n",
        "\n",
        "The simulator needs indices for each node, i.e. 0, 1, 2, ...  This code creates a dictionary with keys being node names and values being the indices."
      ]
    },
    {
      "cell_type": "code",
      "execution_count": 8,
      "metadata": {
        "colab": {
          "base_uri": "https://localhost:8080/"
        },
        "id": "_Acn43BinxQ1",
        "outputId": "3a656f37-e73d-4752-e452-55db3843bc4b"
      },
      "outputs": [
        {
          "output_type": "stream",
          "name": "stdout",
          "text": [
            "{'A': 0, 'One': 1, 'Two': 2, 'AA_0': 3}\n"
          ]
        }
      ],
      "source": [
        "#create node_index and followers_list for simulator\n",
        "node_index = {}\n",
        "node_screen_name = list(Gembed.nodes())\n",
        "for cnt,v in enumerate(Gembed.nodes()):\n",
        "    node_index[v] = cnt\n",
        "\n",
        "if len(node_index)<10:\n",
        "    print(node_index)"
      ]
    },
    {
      "cell_type": "markdown",
      "metadata": {
        "id": "dsRqyqh3eNEl"
      },
      "source": [
        "# Agent Targets Index in Augmented Agent Network\n",
        "        \n",
        "We create a list `agents_targets_indices` that puts in the index for the nodes for the simulator (the simulator does not use screen names, but numerical indices for the nodes)."
      ]
    },
    {
      "cell_type": "code",
      "execution_count": 9,
      "metadata": {
        "colab": {
          "base_uri": "https://localhost:8080/"
        },
        "id": "8gk1zN22eNEm",
        "outputId": "5f88dc2b-7323-42c1-f0b9-8c6aa8ac4e27"
      },
      "outputs": [
        {
          "output_type": "execute_result",
          "data": {
            "text/plain": [
              "[[3]]"
            ]
          },
          "metadata": {},
          "execution_count": 9
        }
      ],
      "source": [
        "nagents= len(agents_rates_embed)\n",
        "assert len(agents_rates_embed)==len(agents_targets_embed)\n",
        "\n",
        "# create target indices for simulator\n",
        "agents_targets_indices = []\n",
        "for agent_targets in agents_targets_embed:\n",
        "    agent_targets_indices = []\n",
        "    for v in agent_targets:\n",
        "        agent_targets_indices.append(node_index[v])\n",
        "    agents_targets_indices.append(agent_targets_indices)\n",
        "\n",
        "agents_targets_indices"
      ]
    },
    {
      "cell_type": "markdown",
      "metadata": {
        "id": "qz5aqFPheNEj"
      },
      "source": [
        "# Set Simulation Time Parameters\n",
        "\n",
        "`din_max` is the maximum in-degree in the network.  `opinion_rate` is and estimate of the largest rate of change of the opinions of a user in the network.  This rate lets us figure out the simulator's temporal resolution.\n",
        "\n",
        "`tmax_theory` is an estimate of how much time is needed to pull the mean opinion from zero to one.  This gives a ballpark value for how long the simulation should be run.\n",
        "\n",
        "We want `tmax` to be near `tmax_theory` and `tstep` to be less than `tstep_theory`."
      ]
    },
    {
      "cell_type": "code",
      "execution_count": 10,
      "metadata": {
        "colab": {
          "base_uri": "https://localhost:8080/"
        },
        "id": "_cTDstmteNEk",
        "outputId": "fe5ba3d7-52d7-43f5-87c0-9e6ff4e2fbad"
      },
      "outputs": [
        {
          "output_type": "stream",
          "name": "stdout",
          "text": [
            "tmax theory = 247.308\n",
            "tstep theory = 2.061\n",
            "Simuation runs from 0<t<100 with tstep = 0.05\n",
            "Simulator runs from 0<=t<=100 for 2000 steps\n",
            "Step size = 0.05\n"
          ]
        },
        {
          "output_type": "stream",
          "name": "stderr",
          "text": [
            "/usr/local/lib/python3.7/dist-packages/ipykernel_launcher.py:21: DeprecationWarning: `np.int` is a deprecated alias for the builtin `int`. To silence this warning, use `int` by itself. Doing this will not modify any behavior and is safe. When replacing `np.int`, you may wish to use e.g. `np.int64` or `np.int32` to specify the precision. If you wish to review your current use, check the release note link for additional information.\n",
            "Deprecated in NumPy 1.20; for more details and guidance: https://numpy.org/devdocs/release/1.20.0-notes.html#deprecations\n"
          ]
        }
      ],
      "source": [
        "din_max = max([x[1] for x in G0.in_degree(G0.nodes())])\n",
        "opinion_rate = din_max*max(agents_rates)\n",
        "opinion_shift_resolution = 0.05\n",
        "tstep_theory = opinion_shift_resolution/(shift_max*din_max*max(agents_rates))\n",
        "\n",
        "opinion_mean_rate = shift_max*max(agents_rates)/n\n",
        "ts_theory = 1/opinion_mean_rate\n",
        "tmax_theory = 2*ts_theory\n",
        "\n",
        "\n",
        "print(f\"tmax theory = {tmax_theory:.3f}\")\n",
        "print(f\"tstep theory = {tstep_theory:.3f}\")\n",
        "\n",
        "\n",
        "print(f\"Simuation runs from 0<t<{tmax} with tstep = {tstep}\")\n",
        "\n",
        "# Simulator Settings\n",
        "# Set `nsteps`, the number of discrete steps in the simulator.\n",
        "\n",
        "#Choose objective:  this will be minimized by the agent\n",
        "nsteps = np.int(tmax/tstep)  #number of discrete steps in the simulation\n",
        "\n",
        "print(f\"Simulator runs from 0<=t<={tmax} for {nsteps} steps\\nStep size = {tstep}\")"
      ]
    },
    {
      "cell_type": "markdown",
      "metadata": {
        "id": "USpey_vRtfA1"
      },
      "source": [
        "# Run simulation with no agent\n",
        "\n",
        "Run the opinion dynamics simulation with no agents.  This let's you see if the time scale and step for the simulation are ok."
      ]
    },
    {
      "cell_type": "code",
      "execution_count": 11,
      "metadata": {
        "colab": {
          "base_uri": "https://localhost:8080/",
          "height": 332
        },
        "id": "9lr71iC6tnXh",
        "outputId": "d68a90fb-f602-4677-a180-cdfea9a6fa84"
      },
      "outputs": [
        {
          "output_type": "stream",
          "name": "stdout",
          "text": [
            "Simuator takes 3.2766004360000007 seconds\n",
            "no agent objective =-0.613744\n"
          ]
        },
        {
          "output_type": "display_data",
          "data": {
            "image/png": "[encoded data removed]",
            "text/plain": [
              "<Figure size 432x288 with 1 Axes>"
            ]
          },
          "metadata": {
            "needs_background": "light"
          }
        }
      ],
      "source": [
        "start = time.process_time()\n",
        "(T,Opinions_no_agent) = simulate_opinion(opinions0, rates, A, \n",
        "                                          np.ones((nsteps,nagents)), \n",
        "                                         agents_rates, [], nsteps, tstep)\n",
        "tsim = time.process_time() - start\n",
        "print(f\"Simuator takes {tsim} seconds\")\n",
        "obj_no_agent = objective_value(OBJECTIVE,Opinions_no_agent)\n",
        "print(f\"no agent objective ={obj_no_agent:.6f}\")\n",
        "\n",
        "#plot the opinions\n",
        "if n>=100:\n",
        "    plot_opinion_quantiles(T,Opinions_no_agent)\n",
        "else:\n",
        "    plt.plot(T,Opinions_no_agent)\n",
        "\n",
        "\n",
        "plt.title(f\"Embedded agent, No control: objective = {obj_no_agent:.3f}\", fontsize = 12)\n",
        "plt.ylabel('Opinion',fontsize = 14)\n",
        "plt.xlabel('Time',fontsize = 14)\n",
        "plt.ylim([0,1.1])\n",
        "plt.xticks(fontsize = 8)\n",
        "plt.yticks(fontsize = 8)\n",
        "plt.grid()"
      ]
    },
    {
      "cell_type": "markdown",
      "metadata": {
        "id": "XJvu3cLn0Q4h"
      },
      "source": [
        "# Solve for Bang Bang Policy with Augmented Agent\n",
        "\n",
        "The Bang Bang policy with an augmented agent has two parameters:  \n",
        "   \n",
        "       1) The value of $t$ when the agent opinion flips: `ts` in the code\n",
        "       \n",
        "       2) The initial opinion of the real (non-augmented) agent: `u` in the code\n",
        "\n",
        "The augmented agent's bang bang policy will initially descend/ascend linearly until time $t_s$, then do the opposite afterwards.  The augmented agent always tracks the original agent that follows it."
      ]
    },
    {
      "cell_type": "code",
      "execution_count": 12,
      "metadata": {
        "colab": {
          "base_uri": "https://localhost:8080/"
        },
        "id": "CBD-7HE6eNEp",
        "outputId": "81d178b2-c2a1-4724-aa11-f3aa46b0ba38"
      },
      "outputs": [
        {
          "output_type": "stream",
          "name": "stdout",
          "text": [
            "Theory optimal ts = 49.000000\n",
            "Optimization will take 327.66004360000005 seconds to run\n",
            "\tobjective\tts\tu(0)\n",
            "New best: -0.713268\t0.00\t0.00\n",
            "New best: -0.713278\t0.00\t0.11\n",
            "New best: -0.713287\t0.00\t0.22\n",
            "New best: -0.713295\t0.00\t0.33\n",
            "New best: -0.713303\t0.00\t0.44\n",
            "New best: -0.713306\t0.00\t0.56\n",
            "New best: -0.713358\t10.00\t0.67\n",
            "New best: -0.714042\t10.00\t0.78\n",
            "New best: -0.714373\t20.00\t0.78\n",
            "New best: -0.714681\t30.00\t0.78\n",
            "New best: -0.714955\t40.00\t0.78\n",
            "New best: -0.749450\t10.00\t0.89\n",
            "New best: -0.775000\t20.00\t0.89\n",
            "New best: -0.775000\t30.00\t0.89\n",
            "New best: -0.775000\t40.00\t0.89\n",
            "New best: -0.775000\t10.00\t1.00\n",
            "New best: -0.775003\t20.00\t1.00\n",
            "New best: -0.775288\t30.00\t1.00\n",
            "New best: -1.000000\t40.00\t1.00\n",
            "\n",
            "Update embedded agent initial opinion with best value (for simulator)\n"
          ]
        }
      ],
      "source": [
        "#%%time\n",
        "T = np.linspace(0,tmax,nsteps)\n",
        "obj_best = np.inf\n",
        "n_ts = 10\n",
        "\n",
        "ts_theory = (1-tau)/(tau*agents_rates_embed[0]*omega)\n",
        "print(f\"Theory optimal ts = {ts_theory:.6f}\")\n",
        "delta = 0.25\n",
        "ts_min =  0 #ts_theory*(1-delta)\n",
        "ts_max =  100 # ts_theory*(1+delta)\n",
        "dts = ts_max - ts_min\n",
        "Ts = np.arange(ts_min,ts_max,dts/n_ts)\n",
        "\n",
        "U = np.linspace(0,1,10)\n",
        "n_theta0 = len(U)\n",
        "Result = np.zeros((n_ts*n_theta0,3))\n",
        "\n",
        "print(f\"Optimization will take {n_ts*n_theta0*tsim} seconds to run\")\n",
        "print(\"\\tobjective\\tts\\tu(0)\")\n",
        "c=0\n",
        "for u in U:\n",
        "    opinions0_embed[node_index['AA_0']] = u\n",
        "    for ts in Ts:\n",
        "        # Bang Bang with embedded agent\n",
        "        (T,Opinions,z_opinions) = simulate_opinion_bangbang_one_follower(opinions0_embed, \n",
        "                                                                rates_embed, \n",
        "                                                                Aembed, \n",
        "                                                                agents_rates_embed, \n",
        "                                                                agents_targets_indices, \n",
        "                                                                nsteps, tstep,ts)\n",
        "        obj = objective_value(OBJECTIVE,Opinions)\n",
        "        # Result[c,:] = np.array([ts,theta0_embed,obj])\n",
        "        #print(f\"{obj:.6f}\\t{ts:.2f}\\t{theta0_embed:.2f}\")\n",
        "        c+=1\n",
        "        if obj<=obj_best:\n",
        "            obj_best = obj\n",
        "            z_opinions_best = z_opinions\n",
        "            ts_best = ts\n",
        "            u_best = u\n",
        "            print(f\"New best: {obj:.6f}\\t{ts:.2f}\\t{u:.2f}\")\n",
        "\n",
        "print(\"\\nUpdate embedded agent initial opinion with best value (for simulator)\")\n",
        "opinions0_embed[node_index['AA_0']] = u_best        "
      ]
    },
    {
      "cell_type": "markdown",
      "metadata": {
        "id": "aiG_ZnRfeNEr"
      },
      "source": [
        "# Calculate outputs\n",
        "\n",
        "Simulate opinion dynamics with embedded agent with optimal initial opinion and optimal switching time for control agent."
      ]
    },
    {
      "cell_type": "code",
      "execution_count": 18,
      "metadata": {
        "colab": {
          "base_uri": "https://localhost:8080/",
          "height": 410
        },
        "id": "kDNfRs3p6u1b",
        "outputId": "ecb1a265-233d-4107-cf57-262b2762b43d"
      },
      "outputs": [
        {
          "output_type": "display_data",
          "data": {
            "image/png": "[encoded data removed]",
            "text/plain": [
              "<Figure size 1152x432 with 2 Axes>"
            ]
          },
          "metadata": {
            "needs_background": "light"
          }
        }
      ],
      "source": [
        "(T,embed_Opinions_optimized) = simulate_opinion(opinions0_embed, rates_embed, Aembed, \n",
        "                                          z_opinions_best, agents_rates_embed, \n",
        "                                          agents_targets_indices, nsteps, tstep)\n",
        "\n",
        "#keep only original users/agents in Opinions array\n",
        "Opinions_optimized  = np.delete(embed_Opinions_optimized, node_index['AA_0'], 1)\n",
        "#agents_opinions_best is opinion of control agent, not embedded agent\n",
        "agents_opinions_best = np.reshape(embed_Opinions_optimized[:,node_index['AA_0']],(embed_Opinions_optimized.shape[0],1))\n",
        "\n",
        "OUTPUT = (T,Opinions_no_agent,Opinions_optimized,agents_opinions_best)\n",
        "\n",
        "# Plot opinions without and with trained agent\n",
        "plt.figure(figsize=(16,6))\n",
        "plt.subplot(1,2,1)\n",
        "if n>=100:\n",
        "    plot_opinion_quantiles(T,Opinions_no_agent)\n",
        "else:\n",
        "    plt.plot(T,Opinions_no_agent)\n",
        "\n",
        "\n",
        "plt.title(f\"No agent: objective = {obj_no_agent:.3f}\", fontsize = 24)\n",
        "plt.ylabel('Opinion',fontsize = 24)\n",
        "plt.xlabel('Time',fontsize = 24)\n",
        "plt.ylim([0,1.1])\n",
        "plt.xticks(fontsize = 18)\n",
        "plt.yticks(fontsize = 18)\n",
        "plt.grid()\n",
        "\n",
        "plt.subplot(1,2,2)\n",
        "if n>=100:\n",
        "    plot_opinion_quantiles(T,Opinions_optimized)\n",
        "else:\n",
        "    plt.plot(T,Opinions_optimized)\n",
        "#plot actual agents' opinions  \n",
        "# for i in range(nagents):\n",
        "#     agents_opinions_best[-1,i] = agents_opinions_best[-2,i]\n",
        "#     plt.plot(T,agents_opinions_best[:,i],marker='.',label=f'A',color ='black')\n",
        "\n",
        "# plot embedded agent opinions (this agent is not actually in the network)\n",
        "# plt.plot(T,embed_agents_opinions_best,\n",
        "#         marker='.',label=f'Embedded agent',color ='red')\n",
        "\n",
        "# plot embedded agent opinions (this agent is not actually in the network)\n",
        "plt.plot(T,z_opinions_best,marker='.',label=f'Embedded agent',color ='red')\n",
        "\n",
        "plt.title(f\"Agent: objective = {obj_best:.3f}\", fontsize = 24)\n",
        "plt.ylabel('Opinion',fontsize = 24)\n",
        "plt.xlabel('Time',fontsize = 24)\n",
        "plt.legend()\n",
        "plt.ylim([0,1.1])\n",
        "#plt.xlim([0,40])\n",
        "plt.xticks(fontsize = 18)\n",
        "plt.yticks(fontsize = 18)\n",
        "plt.grid()\n",
        "plt.show()"
      ]
    },
    {
      "cell_type": "code",
      "execution_count": 21,
      "metadata": {
        "colab": {
          "base_uri": "https://localhost:8080/",
          "height": 265
        },
        "id": "0MxNA9HDeNEs",
        "outputId": "c76408fa-ab23-4030-d890-d24642e3c405"
      },
      "outputs": [
        {
          "output_type": "display_data",
          "data": {
            "image/png": "[encoded data removed]",
            "text/plain": [
              "<Figure size 432x288 with 1 Axes>"
            ]
          },
          "metadata": {
            "needs_background": "light"
          }
        }
      ],
      "source": [
        "plt.plot(T,z_opinions_best,label=f'Embedded agent',color = 'red')\n",
        "plt.plot(T,agents_opinions_best[:,0],label=f'A',color ='skyblue')\n",
        "plt.grid()\n",
        "plt.show()"
      ]
    }
  ],
  "metadata": {
    "colab": {
      "collapsed_sections": [
        "Eq27WeiN8Ob4",
        "Z_HyfshDustK",
        "oJx6_2fEuwGF",
        "hn7Ch4WWu0rM",
        "whCvW26N9hOs",
        "u3Lq8aCnHFGB",
        "uho5EUyTySa0",
        "mRqjImSQH74y",
        "l03cJc5yKtFn",
        "sFNpgpy5K3nH"
      ],
      "history_visible": true,
      "name": "Multi_Followers_Augmented Agent Bang Bang Policy_v2_YS.ipynb",
      "provenance": [],
      "toc_visible": true,
      "include_colab_link": true
    },
    "kernelspec": {
      "display_name": "Python 3",
      "language": "python",
      "name": "python3"
    },
    "language_info": {
      "codemirror_mode": {
        "name": "ipython",
        "version": 3
      },
      "file_extension": ".py",
      "mimetype": "text/x-python",
      "name": "python",
      "nbconvert_exporter": "python",
      "pygments_lexer": "ipython3",
      "version": "3.7.2"
    }
  },
  "nbformat": 4,
  "nbformat_minor": 0
}