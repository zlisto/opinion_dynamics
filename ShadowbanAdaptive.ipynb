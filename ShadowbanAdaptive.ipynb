{
 "cells": [
  {
   "cell_type": "markdown",
   "id": "c92ce4e4",
   "metadata": {},
   "source": [
    "LP-based Shadow Ban Policy"
   ]
  },
  {
   "cell_type": "markdown",
   "id": "9d265e44-b1cb-45ec-bd47-6a768e1fd444",
   "metadata": {},
   "source": [
    "# Clone and Install if Using Cluster"
   ]
  },
  {
   "cell_type": "code",
   "execution_count": null,
   "id": "3d40d0e2-3d25-4563-a17e-a15efcdc8fa6",
   "metadata": {},
   "outputs": [],
   "source": [
    "!git clone https://github.com/zlisto/opinion_dynamics\n",
    "import os\n",
    "os.chdir(\"opinion_dynamics\")"
   ]
  },
  {
   "cell_type": "code",
   "execution_count": null,
   "id": "56acea0a",
   "metadata": {},
   "outputs": [],
   "source": [
    "!pip install control"
   ]
  },
  {
   "cell_type": "markdown",
   "id": "e8363fef-0d59-4bf1-a265-2d2b700afbd4",
   "metadata": {},
   "source": [
    "# Import Packages"
   ]
  },
  {
   "cell_type": "code",
   "execution_count": 2,
   "id": "9494acb2",
   "metadata": {},
   "outputs": [],
   "source": [
    "import numpy as np\n",
    "import control.optimal as obc\n",
    "import control as ct\n",
    "from pyoptsparse import  Optimization, OPT\n",
    "import pyoptsparse as pos\n",
    "import scipy.sparse as sparse\n",
    "from scipy.sparse import coo_matrix, csr_matrix, diags, identity\n",
    "\n",
    "from scipy.optimize import linprog\n",
    "\n",
    "import matplotlib.pyplot as plt\n",
    "import scripts.shadowban_pyoptsparse as sb\n",
    "from scripts.shadowban_adaptive import *\n",
    "from scripts.opinion_visualization import *\n",
    "from scripts.load_data import * # load Twitter network\n",
    "from scripts.opinion_data import *\n",
    "from scripts.dynamics_simulator import * # class for shadowban LP and RK simulation\n",
    "\n",
    "# from scripts.class_dynamics import * # class for opinion dynamics simulation\n",
    "import networkx as nx\n",
    "\n",
    "import scipy.sparse as sp # save coo_matrix A and E in .npz\n",
    "import pickle # save ndarray rates and opinions0 in .pkl\n",
    "\n",
    "import pandas as pd\n",
    "import time\n",
    "import seaborn as sns\n",
    "from datetime import datetime\n"
   ]
  },
  {
   "cell_type": "markdown",
   "id": "91544111",
   "metadata": {},
   "source": [
    "# Initialization"
   ]
  },
  {
   "cell_type": "markdown",
   "id": "59b3b5c8",
   "metadata": {},
   "source": [
    "## Load Network\n",
    "\n",
    "For your network `G` you need the following node features\n",
    "   1. `rates` = array of posting rate of each node\n",
    "   2. `opinions0` = array of initial opinions of each node"
   ]
  },
  {
   "cell_type": "markdown",
   "id": "9cbb49fa-4c07-4eb5-b573-93c050387558",
   "metadata": {
    "tags": []
   },
   "source": [
    "### Load Synthetic Network"
   ]
  },
  {
   "cell_type": "code",
   "execution_count": null,
   "id": "7b33b276",
   "metadata": {},
   "outputs": [],
   "source": [
    "n0 = 20\n",
    "nc = int(n0/2)\n",
    "sizes = [nc, nc]\n",
    "p0, p1 = 8/n0, 1/n0\n",
    "probs = [[p0, p1], [p1, p0]]\n",
    "G = nx.DiGraph(nx.stochastic_block_model(sizes, probs, seed=0))\n",
    "\n",
    "for i in range(nc):\n",
    "    rate = 1\n",
    "    opinion0 = i/(nc-1)/2 \n",
    "    opinion1 = 1-i/(nc-1)/2 \n",
    "    G.nodes[i]['opinion'] = opinion0\n",
    "    G.nodes[i+nc]['opinion'] = opinion1\n",
    "    G.nodes[i]['rate'] = 1\n",
    "    G.nodes[i+nc]['rate'] = 1\n",
    "fig = draw_network(G)\n",
    "\n",
    "A = nx.adjacency_matrix(G)\n",
    "A = A.tocoo()\n",
    "assert n0 == A.shape[0]  #number of nodes in network should equal shape of A\n",
    "rates = np.array([G.nodes[v][\"rate\"] for v in G.nodes()])  #posting rates of nodes\n",
    "opinions0 = np.array([G.nodes[v][\"opinion\"] for v in G.nodes()])  #initial opinions of nodes\n",
    "\n",
    "plt.hist(opinions0)\n",
    "plt.show()\n",
    "\n",
    "E0 = nx.incidence_matrix(G,oriented=True)\n",
    "E0 = E0.tocoo()\n",
    "ind = E0.data>0\n",
    "E = coo_matrix((E0.data[ind], (E0.row[ind], E0.col[ind])), E0.shape)  #incidence matrix with only tail of edge\n",
    "\n",
    "\n",
    "network_params = {'A':A, 'rates':rates, 'opinions0':opinions0, 'E':E}\n",
    "network_params['data_name'] = 'synthetic'\n",
    "\n",
    "network_params"
   ]
  },
  {
   "cell_type": "markdown",
   "id": "30b7a4b0-2b8b-40fb-b7d1-63193b03430e",
   "metadata": {
    "tags": []
   },
   "source": [
    "### (optional) Load Twitter Network"
   ]
  },
  {
   "cell_type": "markdown",
   "id": "b81319e2-b254-45ad-9606-76a943c2a545",
   "metadata": {},
   "source": [
    "#### Specify network_name"
   ]
  },
  {
   "cell_type": "code",
   "execution_count": null,
   "id": "c0ee1ac3-efd6-40d2-804c-f6ed22e483a4",
   "metadata": {},
   "outputs": [],
   "source": [
    "network_name = \"data/GiletsJaunes_sample_02_agent\"\n",
    "# \"Brexit_sample_02_agent\"\n",
    "# \"GiletsJaunes_sample_02_agent\" \n",
    "# \"2016_Second_Presidential_Debate_random_sample\" \"2016_Second_Presidential_Debate_full\""
   ]
  },
  {
   "cell_type": "markdown",
   "id": "2828f964-ebab-4f60-b31c-fb2925c2081e",
   "metadata": {},
   "source": [
    "#### (optional) Save coo_matrix A,E in .npz and others in .pkl"
   ]
  },
  {
   "cell_type": "code",
   "execution_count": null,
   "id": "a3680175-5e2b-4d69-a197-a1bf4306b0c9",
   "metadata": {},
   "outputs": [],
   "source": [
    "G, network_params = G_to_params(network_name + \".csv\")\n",
    "\n",
    "# Save the adjacency matrix A\n",
    "sp.save_npz(network_name + '_A.npz', network_params['A'])\n",
    "\n",
    "# Save the incidence matrix E\n",
    "sp.save_npz(network_name + '_E.npz', network_params['E'])\n",
    "\n",
    "# Save rates\n",
    "with open(network_name + '_rates.pkl', 'wb') as file:\n",
    "    pickle.dump(network_params['rates'], file)\n",
    "\n",
    "# Save opinions0\n",
    "with open(network_name + '_opinions0.pkl', 'wb') as file:\n",
    "    pickle.dump(network_params['opinions0'], file)"
   ]
  },
  {
   "cell_type": "markdown",
   "id": "87bbed79-fd9f-42df-bef4-f70e5f1f7003",
   "metadata": {},
   "source": [
    "#### Reload network_params"
   ]
  },
  {
   "cell_type": "code",
   "execution_count": null,
   "id": "f02d5d68-3aa8-4604-9327-58f75d2d1e22",
   "metadata": {},
   "outputs": [],
   "source": [
    "%%time\n",
    "# Load the adjacency matrix A\n",
    "A = sp.load_npz(network_name + '_A.npz')\n",
    "\n",
    "# Load the incidence matrix E\n",
    "E = sp.load_npz(network_name + '_E.npz')\n",
    "\n",
    "# Load rates\n",
    "with open(network_name + '_rates.pkl', 'rb') as file:\n",
    "    rates = pickle.load(file)\n",
    "\n",
    "# Load opinions0\n",
    "with open(network_name + '_opinions0.pkl', 'rb') as file:\n",
    "    opinions0 = pickle.load(file)\n",
    "\n",
    "network_params = {'A':A, 'E':E, 'rates':rates, 'opinions0':opinions0}\n",
    "G = nx.DiGraph(network_params['A'])\n",
    "\n",
    "\n",
    "print(f\"Number of nodes = {G.number_of_nodes()}\")\n",
    "print(f\"Number of edges = {G.number_of_edges()}\")\n",
    "network_params"
   ]
  },
  {
   "cell_type": "markdown",
   "id": "19e98cac",
   "metadata": {},
   "source": [
    "### Load US Election Full Data"
   ]
  },
  {
   "cell_type": "code",
   "execution_count": 4,
   "id": "5972f13e",
   "metadata": {},
   "outputs": [
    {
     "name": "stdout",
     "output_type": "stream",
     "text": [
      "Mean rate 0.09048739630394777 tweets/day\n",
      "CPU times: user 9.11 s, sys: 573 ms, total: 9.69 s\n",
      "Wall time: 10 s\n"
     ]
    },
    {
     "data": {
      "text/plain": [
       "{'A': <77563x77563 sparse matrix of type '<class 'numpy.float64'>'\n",
       " \twith 5022773 stored elements in COOrdinate format>,\n",
       " 'E': <77563x5022773 sparse matrix of type '<class 'numpy.float64'>'\n",
       " \twith 5022773 stored elements in COOrdinate format>,\n",
       " 'rates': array([0.01788376, 0.03874814, 0.0119225 , ..., 0.04172876, 0.00894188,\n",
       "        1.21907601]),\n",
       " 'opinions0': array([0.62639551, 0.33246811, 0.17944451, ..., 0.24893551, 0.39323948,\n",
       "        0.23936598]),\n",
       " 'data_name': 'US_election'}"
      ]
     },
     "execution_count": 4,
     "metadata": {},
     "output_type": "execute_result"
    },
    {
     "data": {
      "image/png": "[encoded data removed]",
      "text/plain": [
       "<Figure size 432x288 with 1 Axes>"
      ]
     },
     "metadata": {
      "needs_background": "light"
     },
     "output_type": "display_data"
    }
   ],
   "source": [
    "%%time\n",
    "network_params = load_us_election()\n",
    "network_params['data_name'] = 'US_election'\n",
    "network_params['rates'] = network_params['rates']/11/30.5\n",
    "\n",
    "plt.hist(network_params['opinions0'])\n",
    "print(f\"Mean rate {network_params['rates'].mean()} tweets/day\")\n",
    "network_params"
   ]
  },
  {
   "cell_type": "markdown",
   "id": "e4adc1af-f479-429b-9851-ee1a56daec51",
   "metadata": {},
   "source": [
    "### Load Gilets Jaunes Full Data"
   ]
  },
  {
   "cell_type": "code",
   "execution_count": 3,
   "id": "6f05b9e4-0be1-4f2c-89a7-313ca77f09e5",
   "metadata": {},
   "outputs": [
    {
     "name": "stdout",
     "output_type": "stream",
     "text": [
      "Mean rate 0.17397953996835083 tweets/day\n",
      "CPU times: user 6.18 s, sys: 468 ms, total: 6.65 s\n",
      "Wall time: 7.57 s\n"
     ]
    },
    {
     "data": {
      "text/plain": [
       "{'A': <41501x41501 sparse matrix of type '<class 'numpy.float64'>'\n",
       " \twith 2257716 stored elements in COOrdinate format>,\n",
       " 'E': <41501x2257716 sparse matrix of type '<class 'numpy.float64'>'\n",
       " \twith 2257716 stored elements in COOrdinate format>,\n",
       " 'rates': array([0.11922504, 0.05663189, 0.01490313, ..., 0.11922504, 0.50372578,\n",
       "        0.70640835]),\n",
       " 'opinions0': array([0.43113284, 0.41007323, 0.20396378, ..., 0.76298056, 0.71444237,\n",
       "        0.11448741]),\n",
       " 'data_name': 'giletsjaunes'}"
      ]
     },
     "execution_count": 3,
     "metadata": {},
     "output_type": "execute_result"
    },
    {
     "data": {
      "image/png": "[encoded data removed]",
      "text/plain": [
       "<Figure size 432x288 with 1 Axes>"
      ]
     },
     "metadata": {
      "needs_background": "light"
     },
     "output_type": "display_data"
    }
   ],
   "source": [
    "%%time\n",
    "network_params = load_giletsjaunes()\n",
    "network_params['data_name'] = 'giletsjaunes'\n",
    "\n",
    "network_params['rates'] = network_params['rates']/11/30.5\n",
    "\n",
    "plt.hist(network_params['opinions0'])\n",
    "print(f\"Mean rate {network_params['rates'].mean()} tweets/day\")\n",
    "network_params"
   ]
  },
  {
   "cell_type": "markdown",
   "id": "2a9b96e7",
   "metadata": {},
   "source": [
    "## Set Simulation and Optimization Parameters"
   ]
  },
  {
   "cell_type": "code",
   "execution_count": 5,
   "id": "f5ce93da",
   "metadata": {},
   "outputs": [],
   "source": [
    "#simulation parameters\n",
    "tau = 0.1\n",
    "omega = 0.1\n",
    "\n",
    "#shift function f\n",
    "def shift(x):\n",
    "    x = np.clip(x, -1, 1)\n",
    "    y = omega *x*np.exp(-np.abs(x/tau)**2/2)\n",
    "    \n",
    "    return(y)\n",
    "\n",
    "Tf = 180 #final time of simulator, days\n",
    "npts_eval = 100 #number of time discretization points for simulation\n",
    "npts = 3\n",
    "assert npts < npts_eval\n",
    "\n",
    "#for dynamics_simulator.py\n",
    "control_steps = Tf\n",
    "sim_steps = 3\n",
    "\n",
    "#optimization parameters \n",
    "smax = 0.5  #max strength of shadow banning at any time\n",
    "OBJECTIVE = 'MEAN'  #integral cost type\n",
    "assert OBJECTIVE in ['MEAN','VARMIN','VARMAX','EXTRMIN']"
   ]
  },
  {
   "cell_type": "markdown",
   "id": "3a9273b6",
   "metadata": {},
   "source": [
    "## Create params Dictionary for Problem"
   ]
  },
  {
   "cell_type": "code",
   "execution_count": 6,
   "id": "6966dc6e",
   "metadata": {},
   "outputs": [
    {
     "data": {
      "text/plain": [
       "{'A': <77563x77563 sparse matrix of type '<class 'numpy.float64'>'\n",
       " \twith 5022773 stored elements in COOrdinate format>,\n",
       " 'E': <77563x5022773 sparse matrix of type '<class 'numpy.float64'>'\n",
       " \twith 5022773 stored elements in COOrdinate format>,\n",
       " 'rates': array([0.01788376, 0.03874814, 0.0119225 , ..., 0.04172876, 0.00894188,\n",
       "        1.21907601]),\n",
       " 'opinions0': array([0.62639551, 0.33246811, 0.17944451, ..., 0.24893551, 0.39323948,\n",
       "        0.23936598]),\n",
       " 'data_name': 'US_election',\n",
       " 'tau': 0.1,\n",
       " 'omega': 0.1,\n",
       " 'shift': <function __main__.shift(x)>,\n",
       " 'Tf': 180,\n",
       " 'npts_eval': 100,\n",
       " 'npts': 3,\n",
       " 'control_steps': 180,\n",
       " 'sim_steps': 3,\n",
       " 'OBJECTIVE': 'MEAN',\n",
       " 'smax': 0.5}"
      ]
     },
     "execution_count": 6,
     "metadata": {},
     "output_type": "execute_result"
    }
   ],
   "source": [
    "additional_params = {'tau': tau, 'omega': omega, 'shift': shift, \n",
    "                     'Tf': Tf, 'npts_eval': npts_eval, 'npts': npts, 'control_steps': control_steps, 'sim_steps': sim_steps, \n",
    "                     'OBJECTIVE': OBJECTIVE, 'smax': smax}\n",
    "\n",
    "params = {**network_params, **additional_params}\n",
    "nv = params['A'].shape[0]\n",
    "ne = params['E'].shape[1]\n",
    "\n",
    "params"
   ]
  },
  {
   "cell_type": "code",
   "execution_count": null,
   "id": "3ce881e2",
   "metadata": {},
   "outputs": [],
   "source": [
    "# #if using certain optimization package:\n",
    "\n",
    "# #names of edges for shadowbanning in format uij\n",
    "# input_names = []\n",
    "# for e in G.edges():\n",
    "#     input_names.append(f\"u{e[0]}{e[1]}\")\n",
    "# #names of nodes opinions in format thetai\n",
    "# output_names = []\n",
    "# for v in G.nodes():\n",
    "#     output_names.append(f\"theta{v}\")\n",
    "\n",
    "# additional_params = {'tau': tau, 'omega': omega, 'shift': shift, \n",
    "#                      'npts_eval': npts_eval, 'npts': npts, 'Tf': Tf, 'OBJECTIVE': OBJECTIVE, 'smax': smax}\n",
    "\n",
    "# params = {**network_params, **additional_params}\n",
    "\n",
    "# params"
   ]
  },
  {
   "cell_type": "markdown",
   "id": "16100569-66ac-4cab-bedc-49230223e54d",
   "metadata": {
    "jp-MarkdownHeadingCollapsed": true,
    "tags": []
   },
   "source": [
    "# (Not good) Simulate Using solve_ivp()"
   ]
  },
  {
   "cell_type": "code",
   "execution_count": null,
   "id": "d676ccd0-085b-4ce3-9526-6827e9e017a2",
   "metadata": {},
   "outputs": [],
   "source": [
    "#time derivative of opinions\n",
    "def step_fast_opinion(opinions:np.ndarray, rates:list, A, tau:float, omega:float, \n",
    "                      U = None):\n",
    "    n = len(rates)\n",
    "    data = shift(opinions[A.row]- opinions[A.col],tau,omega) #shift value\n",
    "    Shift_matrix = coo_matrix((data, (A.row, A.col)), shape=A.shape) \n",
    "    #scale rates on edges by shadow banning policy values\n",
    "    if U != None:\n",
    "        Shift_matrix = Shift_matrix.multiply(U)\n",
    "        \n",
    "    Rate_matrix = diags(rates,0) #create a diagonal matrix with Rates values\n",
    "\n",
    "    D = Rate_matrix @ Shift_matrix # matrix multiply\n",
    "    Dxdt = D.sum(axis = 0).A1 #contribution from following of node\n",
    "\n",
    "    return Dxdt\n",
    "\n",
    "#time derivative of opinions for odeint\n",
    "def dxdt(t:float, opinions:np.ndarray, rates:list, A, tau:float, omega:float, U = None):    \n",
    "    return step_fast_opinion(opinions, rates, A, tau, omega, U)\n",
    "\n",
    "def sys_update(t, x, u, params):\n",
    "    # Get the parameters for the model\n",
    "    A = params.get('A')         # vehicle wheelbase\n",
    "    rates = params.get('rates')\n",
    "    tau = params.get('tau')\n",
    "    omega = params.get('omega')\n",
    "    \n",
    "    \n",
    "    # Create COO matrix U with data from u at A's locations\n",
    "    \n",
    "    U_row = A.row\n",
    "    U_col = A.col\n",
    "    U = coo_matrix((u, (U_row, U_col)), shape=(A.shape[0], A.shape[1]))\n",
    "\n",
    "    # Return the derivative of the state\n",
    "    return dxdt(t, x, rates, A, tau, omega, U)"
   ]
  },
  {
   "cell_type": "code",
   "execution_count": null,
   "id": "8d102da0-ea7c-44ae-9ecc-40f89b20c364",
   "metadata": {},
   "outputs": [],
   "source": [
    "%%time\n",
    "\n",
    "from scipy.integrate import solve_ivp\n",
    "\n",
    "# dxdt = sys_update_lp_ivp\n",
    "# dxdt = sys_update\n",
    "\n",
    "\n",
    "# npts_eval = 100\n",
    "t_eval = np.linspace(0, Tf, Tf*2)\n",
    "\n",
    "u = np.ones(ne) #dummy\n",
    "args = (u,params)\n",
    "\n",
    "\n",
    "sol = solve_ivp(fun=sys_update, t_span=[0, Tf], y0=params['opinions0'], method='Radau', \n",
    "                t_eval=t_eval, args=args, dense_output=True)\n",
    "\n",
    "Opinions_lp = sol.y\n",
    "\n",
    "obj_lp = sb.cost_sim(OBJECTIVE, Opinions_lp)\n",
    "\n",
    "fig = plt.figure(figsize = (10,4))\n",
    "plt.subplot(1,2,1)\n",
    "# plot_opinion_quantiles(t_eval, Opinions_lp)\n",
    "plot_opinions(t_eval,Opinions_lp.T)\n",
    "# plt.ylim(0, 1)\n",
    "plt.title(f\"{nv} nodes LP Shadow Ban {OBJECTIVE} = {obj_lp:.3f}\")\n",
    "\n",
    "plt.plot(sol.y.T)\n",
    "plt.xlabel('t')\n",
    "plt.ylim(0, 1)\n",
    "plt.show()"
   ]
  },
  {
   "cell_type": "markdown",
   "id": "d06086a3-8dab-4cdb-a645-d10692ee5821",
   "metadata": {
    "tags": []
   },
   "source": [
    "# Simulate Using Control Package"
   ]
  },
  {
   "cell_type": "markdown",
   "id": "9bde6577",
   "metadata": {
    "tags": []
   },
   "source": [
    "## Define Input/Output Systems"
   ]
  },
  {
   "cell_type": "code",
   "execution_count": null,
   "id": "ac5df121",
   "metadata": {},
   "outputs": [],
   "source": [
    "sys_no_agent = ct.NonlinearIOSystem(\n",
    "        updfcn =sb.sys_update, outfcn= None, states=nv,\n",
    "        inputs=ne, outputs = nv,\n",
    "        name='shadowban network no agent', params=params)\n",
    "\n",
    "sys_lp = ct.NonlinearIOSystem(\n",
    "        updfcn =sys_update_lp, outfcn= None, states=nv,\n",
    "        inputs=ne, outputs = nv,\n",
    "        name='shadowban network lp', params=params)"
   ]
  },
  {
   "cell_type": "markdown",
   "id": "b601c3a6-4a35-44b7-8def-9be5f8793116",
   "metadata": {
    "tags": []
   },
   "source": [
    "## Opinions with no Shadow Banning"
   ]
  },
  {
   "cell_type": "code",
   "execution_count": null,
   "id": "db5af492-21d6-48e0-876e-cb4aa51fef91",
   "metadata": {},
   "outputs": [],
   "source": [
    "%%time\n",
    "T, Opinions_no_agent, _ = sb.simulate_opinions(params, sys_no_agent)\n",
    "obj_no_agent = sb.cost_sim(OBJECTIVE, Opinions_no_agent)\n",
    "\n",
    "print(f\"Objective with no SB = {obj_no_agent}\")"
   ]
  },
  {
   "cell_type": "markdown",
   "id": "11e5ad0f",
   "metadata": {
    "tags": []
   },
   "source": [
    "## Opinions with LP Adaptive Shadow Banning"
   ]
  },
  {
   "cell_type": "code",
   "execution_count": null,
   "id": "5f69c9a8",
   "metadata": {},
   "outputs": [],
   "source": [
    "%%time\n",
    "\n",
    "for OBJECTIVE in ['MEAN','VARMIN','VARMAX']:\n",
    "# for OBJECTIVE in ['MEAN']:\n",
    "    params['OBJECTIVE'] = OBJECTIVE\n",
    "    obj_no_agent = sb.cost_sim(OBJECTIVE, Opinions_no_agent)\n",
    "    #LP shadow banning \n",
    "    T, Opinions_lp, _ = sb.simulate_opinions(params, sys_lp)\n",
    "    obj_lp = sb.cost_sim(OBJECTIVE, Opinions_lp)\n",
    "\n",
    "    fig = plt.figure(figsize = (10,4))\n",
    "    plt.subplot(1,2,1)\n",
    "    # plot_opinion_quantiles(T, Opinions_no_agent)\n",
    "    plot_opinions(T, Opinions_no_agent)\n",
    "    plt.ylim(0, 1)\n",
    "    plt.title(f\"{nv} nodes {OBJECTIVE} = {obj_no_agent:.3f}\")\n",
    "\n",
    "    plt.subplot(1,2,2)\n",
    "    # plot_opinion_quantiles(T, Opinions_lp)\n",
    "    plot_opinions(T, Opinions_lp)\n",
    "    plt.ylim(0, 1)\n",
    "    plt.title(f\"{nv} nodes LP Shadow Ban {OBJECTIVE} = {obj_lp:.3f}\")\n",
    "    \n",
    "    # plt.savefig(f\"results/shadowban_{OBJECTIVE}_{nv}_node_sbm.jpeg\")\n",
    "\n",
    "    plt.show()"
   ]
  },
  {
   "cell_type": "markdown",
   "id": "fd0069d7-d3fb-4d9a-831d-1a9ee4a1a730",
   "metadata": {
    "tags": []
   },
   "source": [
    "# Simulate Using dynamics_simulator.py\n",
    "\n",
    "1. Optimize control by LP for `control_steps` control intervals\n",
    "2. Solve state ivp by RK for `sim_steps` within each control interval"
   ]
  },
  {
   "cell_type": "code",
   "execution_count": null,
   "id": "17cb8a4a-e88a-471b-bf74-142de35855a5",
   "metadata": {},
   "outputs": [],
   "source": [
    "%%time\n",
    "\n",
    "start_time = time.time()\n",
    "# environment for no shadow banning\n",
    "env_no_ban = OpinionSimulatorContinuous(params, False)\n",
    "Opinions_no_ban, Controls_no_ban = opinion_simulation(env_no_ban)\n",
    "\n",
    "print(f\"Took {(time.time()-start_time)/60} mins to simulate no ban.\")\n",
    "\n",
    "T = np.linspace(0, Tf, sim_steps*control_steps + 1)\n",
    "\n",
    "# for OBJECTIVE in ['MEAN','VARMIN','VARMAX']:\n",
    "for OBJECTIVE in ['VARMIN','VARMAX']:\n",
    "# for OBJECTIVE in ['MEAN']:\n",
    "    params['OBJECTIVE'] = OBJECTIVE\n",
    "    \n",
    "    # objective value of no ban\n",
    "    obj_no_ban = cost_sim(OBJECTIVE, Opinions_no_ban, Controls_no_ban)\n",
    "    \n",
    "    # environment for shadow banning\n",
    "    env_ban = OpinionSimulatorContinuous(params, True)\n",
    "    Opinions_ban, Controls_ban = opinion_simulation(env_ban)\n",
    "    obj_ban = cost_sim(OBJECTIVE, Opinions_ban, Controls_ban)\n",
    "\n",
    "    # Plot\n",
    "    fig = plt.figure(figsize = (10,4))\n",
    "\n",
    "    plt.subplot(1,2,1)\n",
    "    plot_opinion_quantiles(T, Opinions_no_ban)\n",
    "    # plot_opinions(T, Opinions_no_ban)\n",
    "    # plt.ylim(0, 1)\n",
    "    plt.title(f\"{params['data_name']} {OBJECTIVE} = {obj_no_ban:.3f}\")\n",
    "\n",
    "    plt.subplot(1,2,2)\n",
    "    plot_opinion_quantiles(T, Opinions_ban)\n",
    "    # plot_opinions(T, Opinions_ban)\n",
    "    # plt.ylim(0, 1)\n",
    "    plt.title(f\"{params['data_name']} shadow ban {OBJECTIVE} = {obj_ban:.3f}\")\n",
    "    \n",
    "    # Save\n",
    "#     np.savez(f\"results/{params['data_name']}/{params['data_name']}_noban_{OBJECTIVE}_{nv}_node.npz\", \n",
    "#              obj_no_ban=obj_no_ban, Opinions_no_ban=Opinions_no_ban, Controls_no_ban=Controls_no_ban)\n",
    "    \n",
    "#     np.savez(f\"results/{params['data_name']}/{params['data_name']}_shadowban_{OBJECTIVE}_{nv}_node.npz\", \n",
    "#              obj_ban=obj_ban, Opinions_ban=Opinions_ban, Controls_ban=Controls_ban)\n",
    "    \n",
    "    plt.savefig(f\"results/{params['data_name']}/{params['data_name']}_{OBJECTIVE}_{nv}_node.jpeg\")\n",
    "    \n",
    "    plt.show()"
   ]
  },
  {
   "cell_type": "code",
   "execution_count": 11,
   "id": "747f9dc6-1b51-42ca-9fa8-86e9133f6d21",
   "metadata": {},
   "outputs": [],
   "source": [
    "%%time\n",
    "\n",
    "np.savez(f\"results/{params['data_name']}/{params['data_name']}_noban_{OBJECTIVE}_{nv}_node.npz\", \n",
    "         obj_no_ban=obj_no_ban, Opinions_no_ban=Opinions_no_ban, Controls_no_ban=Controls_no_ban)\n",
    "\n",
    "np.savez(f\"results/{params['data_name']}/{params['data_name']}_shadowban_{OBJECTIVE}_{nv}_node.npz\", \n",
    "         obj_ban=obj_ban, Opinions_ban=Opinions_ban, Controls_ban=Controls_ban)\n"
   ]
  },
  {
   "cell_type": "code",
   "execution_count": null,
   "id": "fcbbcbf7-b416-4388-8054-aafeb7f21915",
   "metadata": {},
   "outputs": [],
   "source": [
    "%%time\n",
    "\n",
    "#Plot opinions\n",
    "fig = plt.figure(figsize = (10,4))\n",
    "\n",
    "plt.subplot(1,2,1)\n",
    "# plot_opinion_quantiles(T, Opinions_no_ban)\n",
    "plot_opinions(T, Opinions_no_ban)\n",
    "# plt.ylim(0, 1)\n",
    "plt.title(f\"{nv} nodes {OBJECTIVE} = {obj_no_ban:.3f}\")\n",
    "\n",
    "plt.subplot(1,2,2)\n",
    "# plot_opinion_quantiles(T, Opinions_ban)\n",
    "plot_opinions(T, Opinions_ban)\n",
    "# plt.ylim(0, 1)\n",
    "plt.title(f\"{nv} nodes LP Shadow Ban {OBJECTIVE} = {obj_ban:.3f}\")"
   ]
  },
  {
   "cell_type": "code",
   "execution_count": null,
   "id": "141f2602-ed3a-4f4b-9131-bfa96a2c911c",
   "metadata": {},
   "outputs": [],
   "source": []
  }
 ],
 "metadata": {
  "kernelspec": {
   "display_name": "Python 3",
   "language": "python",
   "name": "python3"
  },
  "language_info": {
   "codemirror_mode": {
    "name": "ipython",
    "version": 3
   },
   "file_extension": ".py",
   "mimetype": "text/x-python",
   "name": "python",
   "nbconvert_exporter": "python",
   "pygments_lexer": "ipython3",
   "version": "3.8.8"
  },
  "toc-autonumbering": true,
  "toc-showcode": false,
  "toc-showmarkdowntxt": false,
  "toc-showtags": false
 },
 "nbformat": 4,
 "nbformat_minor": 5
}
