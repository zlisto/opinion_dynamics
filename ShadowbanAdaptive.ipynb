{
 "cells": [
  {
   "cell_type": "markdown",
   "id": "c92ce4e4",
   "metadata": {},
   "source": [
    "# Use LP based Adaptive Shadow Ban Policy\n",
    "\n"
   ]
  },
  {
   "cell_type": "code",
   "execution_count": null,
   "id": "56acea0a",
   "metadata": {},
   "outputs": [],
   "source": [
    "#!pip install control"
   ]
  },
  {
   "cell_type": "code",
   "execution_count": 1,
   "id": "9494acb2",
   "metadata": {},
   "outputs": [
    {
     "name": "stdout",
     "output_type": "stream",
     "text": [
      "CPU times: user 2.27 s, sys: 527 ms, total: 2.79 s\n",
      "Wall time: 3.66 s\n"
     ]
    }
   ],
   "source": [
    "%%time\n",
    "import numpy as np\n",
    "import control.optimal as obc\n",
    "import control as ct\n",
    "from pyoptsparse import  Optimization, OPT\n",
    "import pyoptsparse as pos\n",
    "import scipy.sparse as sparse\n",
    "from scipy.sparse import coo_matrix, csr_matrix, diags, identity\n",
    "\n",
    "from scipy.optimize import linprog\n",
    "\n",
    "import matplotlib.pyplot as plt\n",
    "import scripts.shadowban_pyoptsparse as sb\n",
    "from scripts.shadowban_adaptive import *\n",
    "from scripts.opinion_visualization import *\n",
    "from scripts.load_data import * # load Twitter network\n",
    "from scripts.class_dynamics import * # class for opinion dynamics simulation\n",
    "import networkx as nx\n",
    "\n",
    "import scipy.sparse as sp # save coo_matrix A and E in .npz\n",
    "import pickle # save ndarray rates and opinions0 in .pkl\n",
    "\n",
    "import pandas as pd\n",
    "import time\n",
    "import seaborn as sns\n",
    "from datetime import datetime\n"
   ]
  },
  {
   "cell_type": "code",
   "execution_count": null,
   "id": "8624e1d8-0031-4054-8237-f54af8955d7c",
   "metadata": {},
   "outputs": [],
   "source": [
    "%reload your_package_name #reload script"
   ]
  },
  {
   "cell_type": "markdown",
   "id": "91544111",
   "metadata": {},
   "source": [
    "# Initialization"
   ]
  },
  {
   "cell_type": "markdown",
   "id": "59b3b5c8",
   "metadata": {},
   "source": [
    "## Load Network\n",
    "\n",
    "For your network `G` you need the following node features\n",
    "   1. `rates` = array of posting rate of each node\n",
    "   2. `opinions0` = array of initial opinions of each node"
   ]
  },
  {
   "cell_type": "markdown",
   "id": "9cbb49fa-4c07-4eb5-b573-93c050387558",
   "metadata": {},
   "source": [
    "### Load Synthetic Network"
   ]
  },
  {
   "cell_type": "code",
   "execution_count": null,
   "id": "7b33b276",
   "metadata": {},
   "outputs": [],
   "source": [
    "n0 = 20\n",
    "nc = int(n0/2)\n",
    "sizes = [nc, nc]\n",
    "p0, p1 = 8/n0, 1/n0\n",
    "probs = [[p0, p1], [p1, p0]]\n",
    "G = nx.DiGraph(nx.stochastic_block_model(sizes, probs, seed=0))\n",
    "\n",
    "for i in range(nc):\n",
    "    rate = 1\n",
    "    opinion0 = i/(nc-1)/2 \n",
    "    opinion1 = 1-i/(nc-1)/2 \n",
    "    G.nodes[i]['opinion'] = opinion0\n",
    "    G.nodes[i+nc]['opinion'] = opinion1\n",
    "    G.nodes[i]['rate'] = 1\n",
    "    G.nodes[i+nc]['rate'] = 1\n",
    "fig = draw_network(G)\n",
    "\n",
    "A = nx.adjacency_matrix(G)\n",
    "A = A.tocoo()\n",
    "assert n0 == A.shape[0]  #number of nodes in network should equal shape of A\n",
    "rates = np.array([G.nodes[v][\"rate\"] for v in G.nodes()])  #posting rates of nodes\n",
    "opinions0 = np.array([G.nodes[v][\"opinion\"] for v in G.nodes()])  #initial opinions of nodes\n",
    "\n",
    "plt.hist(opinions0)\n",
    "plt.show()\n",
    "\n",
    "\n",
    "#adjacency matrix of network\n",
    "# A = nx.adjacency_matrix(G)\n",
    "# A = A.tocoo()\n",
    "E0 = nx.incidence_matrix(G,oriented=True)\n",
    "E0 = E0.tocoo()\n",
    "ind = E0.data>0\n",
    "E = coo_matrix((E0.data[ind], (E0.row[ind], E0.col[ind])), E0.shape)  #incidence matrix with only tail of edge\n",
    "\n",
    "network_params = {'A':A, 'rates':rates, 'opinions0':opinions0, 'E':E}"
   ]
  },
  {
   "cell_type": "markdown",
   "id": "30b7a4b0-2b8b-40fb-b7d1-63193b03430e",
   "metadata": {},
   "source": [
    "### Load Twitter Network"
   ]
  },
  {
   "cell_type": "markdown",
   "id": "b81319e2-b254-45ad-9606-76a943c2a545",
   "metadata": {},
   "source": [
    "#### Specify network_name"
   ]
  },
  {
   "cell_type": "code",
   "execution_count": 6,
   "id": "c0ee1ac3-efd6-40d2-804c-f6ed22e483a4",
   "metadata": {},
   "outputs": [],
   "source": [
    "network_name = \"data/2016_Second_Presidential_Debate_full\"\n",
    "# \"Brexit_sample_02_agent\"\n",
    "# \"GiletsJaunes_sample_02_agent\" \n",
    "# \"2016_Second_Presidential_Debate_random_sample\" \"2016_Second_Presidential_Debate_full\""
   ]
  },
  {
   "cell_type": "markdown",
   "id": "2828f964-ebab-4f60-b31c-fb2925c2081e",
   "metadata": {},
   "source": [
    "#### (optional) Save coo_matrix A,E in .npz and others in .pkl"
   ]
  },
  {
   "cell_type": "code",
   "execution_count": null,
   "id": "a3680175-5e2b-4d69-a197-a1bf4306b0c9",
   "metadata": {},
   "outputs": [],
   "source": [
    "G, network_params = G_to_params(network_name + \".csv\")\n",
    "\n",
    "# Save the adjacency matrix A\n",
    "sp.save_npz(network_name + '_A.npz', network_params['A'])\n",
    "\n",
    "# Save the incidence matrix E\n",
    "sp.save_npz(network_name + '_E.npz', network_params['E'])\n",
    "\n",
    "# Save rates\n",
    "with open(network_name + '_rates.pkl', 'wb') as file:\n",
    "    pickle.dump(network_params['rates'], file)\n",
    "\n",
    "# Save opinions0\n",
    "with open(network_name + '_opinions0.pkl', 'wb') as file:\n",
    "    pickle.dump(network_params['opinions0'], file)"
   ]
  },
  {
   "cell_type": "markdown",
   "id": "87bbed79-fd9f-42df-bef4-f70e5f1f7003",
   "metadata": {},
   "source": [
    "#### Reload network_params"
   ]
  },
  {
   "cell_type": "code",
   "execution_count": 7,
   "id": "f02d5d68-3aa8-4604-9327-58f75d2d1e22",
   "metadata": {},
   "outputs": [
    {
     "name": "stdout",
     "output_type": "stream",
     "text": [
      "Number of nodes = 77167\n",
      "Number of edges = 5021347\n",
      "CPU times: user 43.8 s, sys: 1.66 s, total: 45.4 s\n",
      "Wall time: 45.9 s\n"
     ]
    },
    {
     "data": {
      "text/plain": [
       "{'A': <77167x77167 sparse matrix of type '<class 'numpy.int64'>'\n",
       " \twith 5021347 stored elements in COOrdinate format>,\n",
       " 'E': <77167x5021347 sparse matrix of type '<class 'numpy.float64'>'\n",
       " \twith 5021347 stored elements in COOrdinate format>,\n",
       " 'rates': array([0.43333333, 0.2       , 0.13333333, ..., 0.13333333, 0.03333333,\n",
       "        2.33333333]),\n",
       " 'opinions0': array([0.59144 , 0.57384 , 0.58773 , ..., 0.52017 , 0.965356, 0.58052 ])}"
      ]
     },
     "execution_count": 7,
     "metadata": {},
     "output_type": "execute_result"
    }
   ],
   "source": [
    "%%time\n",
    "# Load the adjacency matrix A\n",
    "A = sp.load_npz(network_name + '_A.npz')\n",
    "\n",
    "# Load the incidence matrix E\n",
    "E = sp.load_npz(network_name + '_E.npz')\n",
    "\n",
    "# Load rates\n",
    "with open(network_name + '_rates.pkl', 'rb') as file:\n",
    "    rates = pickle.load(file)\n",
    "\n",
    "# Load opinions0\n",
    "with open(network_name + '_opinions0.pkl', 'rb') as file:\n",
    "    opinions0 = pickle.load(file)\n",
    "\n",
    "network_params = {'A':A, 'E':E, 'rates':rates, 'opinions0':opinions0}\n",
    "G = nx.DiGraph(network_params['A'])\n",
    "\n",
    "\n",
    "print(f\"Number of nodes = {G.number_of_nodes()}\")\n",
    "print(f\"Number of edges = {G.number_of_edges()}\")\n",
    "network_params"
   ]
  },
  {
   "cell_type": "markdown",
   "id": "2a9b96e7",
   "metadata": {},
   "source": [
    "## Set Simulation and Optimization Parameters"
   ]
  },
  {
   "cell_type": "code",
   "execution_count": 8,
   "id": "f5ce93da",
   "metadata": {},
   "outputs": [],
   "source": [
    "#simulation parameters\n",
    "tau = 0.1\n",
    "omega = 0.1\n",
    "\n",
    "Tf = 10     #final time of simulator\n",
    "npts_eval = 100  #number of time discretization points for simulation\n",
    "npts = 3\n",
    "assert npts < npts_eval\n",
    "\n",
    "#optimization parameters \n",
    "smax = 0.5  #max strength of shadow banning at any time\n",
    "OBJECTIVE = 'MEAN'  #integral cost type\n",
    "\n",
    "assert OBJECTIVE in ['MEAN','VARMIN','VARMAX']"
   ]
  },
  {
   "cell_type": "markdown",
   "id": "3a9273b6",
   "metadata": {},
   "source": [
    "## Create params dictionary for problem"
   ]
  },
  {
   "cell_type": "code",
   "execution_count": 9,
   "id": "3ce881e2",
   "metadata": {},
   "outputs": [
    {
     "data": {
      "text/plain": [
       "{'A': <77167x77167 sparse matrix of type '<class 'numpy.int64'>'\n",
       " \twith 5021347 stored elements in COOrdinate format>,\n",
       " 'E': <77167x5021347 sparse matrix of type '<class 'numpy.float64'>'\n",
       " \twith 5021347 stored elements in COOrdinate format>,\n",
       " 'rates': array([0.43333333, 0.2       , 0.13333333, ..., 0.13333333, 0.03333333,\n",
       "        2.33333333]),\n",
       " 'opinions0': array([0.59144 , 0.57384 , 0.58773 , ..., 0.52017 , 0.965356, 0.58052 ]),\n",
       " 'tau': 0.1,\n",
       " 'omega': 0.1,\n",
       " 'npts_eval': 100,\n",
       " 'Tf': 10,\n",
       " 'smax': 0.5,\n",
       " 'OBJECTIVE': 'MEAN',\n",
       " 'npts': 3}"
      ]
     },
     "execution_count": 9,
     "metadata": {},
     "output_type": "execute_result"
    }
   ],
   "source": [
    "nv = G.number_of_nodes()\n",
    "ne = G.number_of_edges()\n",
    "\n",
    "#names of edges for shadowbanning in format uij\n",
    "input_names = []\n",
    "for e in G.edges():\n",
    "    input_names.append(f\"u{e[0]}{e[1]}\")\n",
    "#names of nodes opinions in format thetai\n",
    "output_names = []\n",
    "for v in G.nodes():\n",
    "    output_names.append(f\"theta{v}\")\n",
    "    \n",
    "assert nv == A.shape[0]  #number of nodes in network should equal shape of A\n",
    "assert ne == E.shape[1]  #number of edges in network should equal columns of E\n",
    "\n",
    "\n",
    "#parameters of network model\n",
    "# params = {'A':A,'E':E,'rates':rates,'tau':tau,'omega':omega, 'opinions0':opinions0,\n",
    "#          'npts_eval':npts_eval, 'Tf':Tf,'smax':smax,\n",
    "#           'OBJECTIVE':OBJECTIVE, 'npts':npts}\n",
    "additional_params = {'tau': tau, 'omega': omega, 'npts_eval': npts_eval, 'Tf': Tf, 'smax': smax, 'OBJECTIVE': OBJECTIVE, 'npts': npts}\n",
    "\n",
    "params = {**network_params, **additional_params} #parameters of network model\n",
    "params"
   ]
  },
  {
   "cell_type": "markdown",
   "id": "9bde6577",
   "metadata": {},
   "source": [
    "# Define Input/Output Systems"
   ]
  },
  {
   "cell_type": "code",
   "execution_count": 10,
   "id": "ac5df121",
   "metadata": {},
   "outputs": [],
   "source": [
    "sys_no_agent = ct.NonlinearIOSystem(\n",
    "        updfcn =sb.sys_update, outfcn= None, states=nv,\n",
    "        inputs=ne, outputs = nv,\n",
    "        name='shadowban network no agent', params=params)\n",
    "\n",
    "sys_lp = ct.NonlinearIOSystem(\n",
    "        updfcn =sys_update_lp, outfcn= None, states=nv,\n",
    "        inputs=ne, outputs = nv,\n",
    "        name='shadowban network lp', params=params)"
   ]
  },
  {
   "cell_type": "markdown",
   "id": "b601c3a6-4a35-44b7-8def-9be5f8793116",
   "metadata": {},
   "source": [
    "# Opinions with no Shadow Banning"
   ]
  },
  {
   "cell_type": "code",
   "execution_count": null,
   "id": "db5af492-21d6-48e0-876e-cb4aa51fef91",
   "metadata": {},
   "outputs": [],
   "source": [
    "%%time\n",
    "T, Opinions_no_agent, _ = sb.simulate_opinions(params, sys_no_agent)\n",
    "obj_no_agent = sb.cost_sim(OBJECTIVE, Opinions_no_agent)"
   ]
  },
  {
   "cell_type": "markdown",
   "id": "11e5ad0f",
   "metadata": {},
   "source": [
    "# Opinions with LP Shadow Banning"
   ]
  },
  {
   "cell_type": "code",
   "execution_count": null,
   "id": "5f69c9a8",
   "metadata": {},
   "outputs": [],
   "source": [
    "%%time\n",
    "\n",
    "for OBJECTIVE in ['MEAN','VARMIN','VARMAX']:\n",
    "    params['OBJECTIVE'] = OBJECTIVE\n",
    "    obj_no_agent = sb.cost_sim(OBJECTIVE, Opinions_no_agent)\n",
    "    #LP shadow banning \n",
    "    T, Opinions_lp, _ = sb.simulate_opinions(params, sys_lp)\n",
    "    obj_lp = sb.cost_sim(OBJECTIVE, Opinions_lp)\n",
    "\n",
    "    fig = plt.figure(figsize = (10,4))\n",
    "    plt.subplot(1,2,1)\n",
    "    plot_opinion_quantiles(T, Opinions_no_agent)\n",
    "#     plot_opinions(T, Opinions_no_agent)\n",
    "    plt.ylim(0, 1)\n",
    "    plt.title(f\"{nv} nodes {OBJECTIVE} = {obj_no_agent:.3f}\")\n",
    "\n",
    "    plt.subplot(1,2,2)\n",
    "    plot_opinion_quantiles(T, Opinions_lp)\n",
    "#     plot_opinions(T, Opinions_lp)\n",
    "    plt.ylim(0, 1)\n",
    "    plt.title(f\"{nv} nodes LP Shadow Ban {OBJECTIVE} = {obj_lp:.3f}\")\n",
    "    \n",
    "    #plt.savefig(f\"figures/shadowban_{OBJECTIVE}_{nv}_node_sbm.jpeg\")\n",
    "\n",
    "    plt.show()"
   ]
  }
 ],
 "metadata": {
  "kernelspec": {
   "display_name": "Python 3",
   "language": "python",
   "name": "python3"
  },
  "language_info": {
   "codemirror_mode": {
    "name": "ipython",
    "version": 3
   },
   "file_extension": ".py",
   "mimetype": "text/x-python",
   "name": "python",
   "nbconvert_exporter": "python",
   "pygments_lexer": "ipython3",
   "version": "3.8.8"
  },
  "toc-autonumbering": true,
  "toc-showcode": false,
  "toc-showmarkdowntxt": false,
  "toc-showtags": false
 },
 "nbformat": 4,
 "nbformat_minor": 5
}
