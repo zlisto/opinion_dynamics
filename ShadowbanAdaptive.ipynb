{
 "cells": [
  {
   "cell_type": "markdown",
   "id": "c92ce4e4",
   "metadata": {},
   "source": [
    "# Use LP based Adaptive Shadow Ban Policy\n",
    "\n"
   ]
  },
  {
   "cell_type": "code",
   "execution_count": null,
   "id": "56acea0a",
   "metadata": {},
   "outputs": [],
   "source": [
    "#!pip install control"
   ]
  },
  {
   "cell_type": "code",
   "execution_count": 62,
   "id": "9494acb2",
   "metadata": {},
   "outputs": [
    {
     "name": "stdout",
     "output_type": "stream",
     "text": [
      "CPU times: user 181 µs, sys: 831 µs, total: 1.01 ms\n",
      "Wall time: 1.03 ms\n"
     ]
    }
   ],
   "source": [
    "%%time\n",
    "import numpy as np\n",
    "import control.optimal as obc\n",
    "import control as ct\n",
    "from pyoptsparse import  Optimization, OPT\n",
    "import pyoptsparse as pos\n",
    "import scipy.sparse as sparse\n",
    "from scipy.sparse import coo_matrix, csr_matrix, diags, identity\n",
    "\n",
    "from scipy.optimize import linprog\n",
    "\n",
    "import matplotlib.pyplot as plt\n",
    "import scripts.shadowban_pyoptsparse as sb\n",
    "from scripts.shadowban_adaptive import *\n",
    "from scripts.opinion_visualization import *\n",
    "from scripts.load_data import * # load Twitter network\n",
    "from scripts.class_dynamics import * # class for opinion dynamics simulation\n",
    "import networkx as nx\n",
    "import scipy.sparse as sp # save coo_matrix A and E in .npz\n",
    "import pickle # save ndarray rates and opinions0 in .pkl\n",
    "\n",
    "import pandas as pd\n",
    "import time\n",
    "import seaborn as sns\n",
    "from datetime import datetime\n"
   ]
  },
  {
   "cell_type": "code",
   "execution_count": null,
   "id": "8624e1d8-0031-4054-8237-f54af8955d7c",
   "metadata": {},
   "outputs": [],
   "source": [
    "%reload your_package_name #reload script"
   ]
  },
  {
   "cell_type": "markdown",
   "id": "91544111",
   "metadata": {},
   "source": [
    "# Initialization"
   ]
  },
  {
   "cell_type": "markdown",
   "id": "59b3b5c8",
   "metadata": {},
   "source": [
    "## Load Network\n",
    "\n",
    "For your network `G` you need the following node features\n",
    "   1. `rates` = array of posting rate of each node\n",
    "   2. `opinions0` = array of initial opinions of each node"
   ]
  },
  {
   "cell_type": "markdown",
   "id": "9cbb49fa-4c07-4eb5-b573-93c050387558",
   "metadata": {},
   "source": [
    "### Load Synthetic Network"
   ]
  },
  {
   "cell_type": "code",
   "execution_count": null,
   "id": "7b33b276",
   "metadata": {},
   "outputs": [],
   "source": [
    "n0 = 20\n",
    "nc = int(n0/2)\n",
    "sizes = [nc, nc]\n",
    "p0, p1 = 8/n0, 1/n0\n",
    "probs = [[p0, p1], [p1, p0]]\n",
    "G = nx.DiGraph(nx.stochastic_block_model(sizes, probs, seed=0))\n",
    "\n",
    "for i in range(nc):\n",
    "    rate = 1\n",
    "    opinion0 = i/(nc-1)/2 \n",
    "    opinion1 = 1-i/(nc-1)/2 \n",
    "    G.nodes[i]['opinion'] = opinion0\n",
    "    G.nodes[i+nc]['opinion'] = opinion1\n",
    "    G.nodes[i]['rate'] = 1\n",
    "    G.nodes[i+nc]['rate'] = 1\n",
    "fig = draw_network(G)\n",
    "\n",
    "A = nx.adjacency_matrix(G)\n",
    "A = A.tocoo()\n",
    "assert n0 == A.shape[0]  #number of nodes in network should equal shape of A\n",
    "rates = np.array([G.nodes[v][\"rate\"] for v in G.nodes()])  #posting rates of nodes\n",
    "opinions0 = np.array([G.nodes[v][\"opinion\"] for v in G.nodes()])  #initial opinions of nodes\n",
    "\n",
    "plt.hist(opinions0)\n",
    "plt.show()\n",
    "\n",
    "\n",
    "#adjacency matrix of network\n",
    "# A = nx.adjacency_matrix(G)\n",
    "# A = A.tocoo()\n",
    "E0 = nx.incidence_matrix(G,oriented=True)\n",
    "E0 = E0.tocoo()\n",
    "ind = E0.data>0\n",
    "E = coo_matrix((E0.data[ind], (E0.row[ind], E0.col[ind])), E0.shape)  #incidence matrix with only tail of edge\n",
    "\n",
    "network_params = {'A':A, 'rates':rates, 'opinions0':opinions0, 'E':E}"
   ]
  },
  {
   "cell_type": "markdown",
   "id": "30b7a4b0-2b8b-40fb-b7d1-63193b03430e",
   "metadata": {},
   "source": [
    "### Load Twitter Network"
   ]
  },
  {
   "cell_type": "markdown",
   "id": "b81319e2-b254-45ad-9606-76a943c2a545",
   "metadata": {},
   "source": [
    "#### Specify network_name"
   ]
  },
  {
   "cell_type": "code",
   "execution_count": 65,
   "id": "c0ee1ac3-efd6-40d2-804c-f6ed22e483a4",
   "metadata": {},
   "outputs": [
    {
     "name": "stdout",
     "output_type": "stream",
     "text": [
      "Number of nodes = 77167\n",
      "Number of edges = 5021347\n",
      "CPU times: user 30.1 ms, sys: 34 ms, total: 64.1 ms\n",
      "Wall time: 69.5 ms\n"
     ]
    }
   ],
   "source": [
    "%%time\n",
    "# \"Brexit_sample_02_agent\"\n",
    "# \"GiletsJaunes_sample_02_agent\" \n",
    "# \"2016_Second_Presidential_Debate_random_sample\" \"2016_Second_Presidential_Debate_full\"\n",
    "network_name = \"data/2016_Second_Presidential_Debate_full\"\n",
    "\n",
    "print(f\"Number of nodes = {G.number_of_nodes()}\")\n",
    "print(f\"Number of edges = {G.number_of_edges()}\")"
   ]
  },
  {
   "cell_type": "markdown",
   "id": "2828f964-ebab-4f60-b31c-fb2925c2081e",
   "metadata": {},
   "source": [
    "#### Save coo_matrix A,E in .npz and others in .pkl (optional)"
   ]
  },
  {
   "cell_type": "code",
   "execution_count": null,
   "id": "a3680175-5e2b-4d69-a197-a1bf4306b0c9",
   "metadata": {},
   "outputs": [],
   "source": [
    "G, network_params = G_to_params(network_name + \".csv\")\n",
    "\n",
    "# Save the adjacency matrix A\n",
    "sp.save_npz(network_name + '_A.npz', network_params['A'])\n",
    "\n",
    "# Save the incidence matrix E\n",
    "sp.save_npz(network_name + '_E.npz', network_params['E'])\n",
    "\n",
    "# Save rates\n",
    "with open(network_name + '_rates.pkl', 'wb') as file:\n",
    "    pickle.dump(network_params['rates'], file)\n",
    "\n",
    "# Save opinions0\n",
    "with open(network_name + '_opinions0.pkl', 'wb') as file:\n",
    "    pickle.dump(network_params['opinions0'], file)"
   ]
  },
  {
   "cell_type": "markdown",
   "id": "87bbed79-fd9f-42df-bef4-f70e5f1f7003",
   "metadata": {},
   "source": [
    "#### Reload network_params"
   ]
  },
  {
   "cell_type": "code",
   "execution_count": 69,
   "id": "f02d5d68-3aa8-4604-9327-58f75d2d1e22",
   "metadata": {},
   "outputs": [
    {
     "data": {
      "text/plain": [
       "{'A': <77167x77167 sparse matrix of type '<class 'numpy.int64'>'\n",
       " \twith 5021347 stored elements in COOrdinate format>,\n",
       " 'E': <77167x5021347 sparse matrix of type '<class 'numpy.float64'>'\n",
       " \twith 5021347 stored elements in COOrdinate format>,\n",
       " 'rates': array([0.43333333, 0.2       , 0.13333333, ..., 0.13333333, 0.03333333,\n",
       "        2.33333333]),\n",
       " 'opinions0': array([0.59144 , 0.57384 , 0.58773 , ..., 0.52017 , 0.965356, 0.58052 ])}"
      ]
     },
     "execution_count": 69,
     "metadata": {},
     "output_type": "execute_result"
    }
   ],
   "source": [
    "# Load the adjacency matrix A\n",
    "A = sp.load_npz(network_name + '_A.npz')\n",
    "\n",
    "# Load the incidence matrix E\n",
    "E = sp.load_npz(network_name + '_E.npz')\n",
    "\n",
    "# Load rates\n",
    "with open(network_name + '_rates.pkl', 'rb') as file:\n",
    "    rates = pickle.load(file)\n",
    "\n",
    "# Load opinions0\n",
    "with open(network_name + '_opinions0.pkl', 'rb') as file:\n",
    "    opinions0 = pickle.load(file)\n",
    "\n",
    "network_params = {'A':A, 'E':E, 'rates':rates, 'opinions0':opinions0}\n",
    "G = nx.DiGraph(network_params['A'])\n",
    "\n",
    "network_params"
   ]
  },
  {
   "cell_type": "markdown",
   "id": "2a9b96e7",
   "metadata": {},
   "source": [
    "## Set Simulation and Optimization Parameters"
   ]
  },
  {
   "cell_type": "code",
   "execution_count": 7,
   "id": "f5ce93da",
   "metadata": {},
   "outputs": [],
   "source": [
    "#simulation parameters\n",
    "tau = 0.1\n",
    "omega = 0.1\n",
    "\n",
    "Tf = 10     #final time of simulator\n",
    "npts_eval = 100  #number of time discretization points for simulation\n",
    "npts = 3\n",
    "assert npts < npts_eval\n",
    "\n",
    "#optimization parameters \n",
    "smax = 0.5  #max strength of shadow banning at any time\n",
    "OBJECTIVE = 'MEAN'  #integral cost type\n",
    "\n",
    "assert OBJECTIVE in ['MEAN','VARMIN','VARMAX']"
   ]
  },
  {
   "cell_type": "markdown",
   "id": "3a9273b6",
   "metadata": {},
   "source": [
    "## Create params dictionary for problem"
   ]
  },
  {
   "cell_type": "code",
   "execution_count": 8,
   "id": "3ce881e2",
   "metadata": {},
   "outputs": [
    {
     "data": {
      "text/plain": [
       "{'A': <77167x77167 sparse matrix of type '<class 'numpy.int64'>'\n",
       " \twith 5021347 stored elements in COOrdinate format>,\n",
       " 'rates': array([0.43333333, 0.2       , 0.13333333, ..., 0.13333333, 0.03333333,\n",
       "        2.33333333]),\n",
       " 'opinions0': array([0.59144 , 0.57384 , 0.58773 , ..., 0.52017 , 0.965356, 0.58052 ]),\n",
       " 'tau': 0.1,\n",
       " 'omega': 0.1,\n",
       " 'npts_eval': 100,\n",
       " 'Tf': 10,\n",
       " 'smax': 0.5,\n",
       " 'OBJECTIVE': 'MEAN',\n",
       " 'npts': 3,\n",
       " 'E': <77167x5021347 sparse matrix of type '<class 'numpy.float64'>'\n",
       " \twith 5021347 stored elements in COOrdinate format>}"
      ]
     },
     "execution_count": 8,
     "metadata": {},
     "output_type": "execute_result"
    }
   ],
   "source": [
    "nv = G.number_of_nodes()\n",
    "ne = G.number_of_edges()\n",
    "\n",
    "#names of edges for shadowbanning in format uij\n",
    "input_names = []\n",
    "for e in G.edges():\n",
    "    input_names.append(f\"u{e[0]}{e[1]}\")\n",
    "#names of nodes opinions in format thetai\n",
    "output_names = []\n",
    "for v in G.nodes():\n",
    "    output_names.append(f\"theta{v}\")\n",
    "    \n",
    "assert nv == A.shape[0]  #number of nodes in network should equal shape of A\n",
    "assert ne == E.shape[1]  #number of edges in network should equal columns of E\n",
    "\n",
    "\n",
    "#parameters of network model\n",
    "# params = {'A':A,'E':E,'rates':rates,'tau':tau,'omega':omega, 'opinions0':opinions0,\n",
    "#          'npts_eval':npts_eval, 'Tf':Tf,'smax':smax,\n",
    "#           'OBJECTIVE':OBJECTIVE, 'npts':npts}\n",
    "additional_params = {'tau': tau, 'omega': omega, 'npts_eval': npts_eval, 'Tf': Tf, 'smax': smax, 'OBJECTIVE': OBJECTIVE, 'npts': npts}\n",
    "\n",
    "params = {**network_params, **additional_params} #parameters of network model\n",
    "params"
   ]
  },
  {
   "cell_type": "markdown",
   "id": "9bde6577",
   "metadata": {},
   "source": [
    "# Define Input/Output Systems"
   ]
  },
  {
   "cell_type": "code",
   "execution_count": 9,
   "id": "ac5df121",
   "metadata": {},
   "outputs": [],
   "source": [
    "sys_no_agent = ct.NonlinearIOSystem(\n",
    "        updfcn =sb.sys_update, outfcn= None, states=nv,\n",
    "        inputs=ne, outputs = nv,\n",
    "        name='shadowban network no agent', params=params)\n",
    "\n",
    "sys_lp = ct.NonlinearIOSystem(\n",
    "        updfcn =sys_update_lp, outfcn= None, states=nv,\n",
    "        inputs=ne, outputs = nv,\n",
    "        name='shadowban network lp', params=params)"
   ]
  },
  {
   "cell_type": "code",
   "execution_count": null,
   "id": "cd88c42b-04d3-41a7-a5d8-70a640a61823",
   "metadata": {},
   "outputs": [],
   "source": [
    "# ct.optimal.state_range_constraint(sys_no_agent, np.zeros(nv), np.ones(nv))"
   ]
  },
  {
   "cell_type": "markdown",
   "id": "b601c3a6-4a35-44b7-8def-9be5f8793116",
   "metadata": {},
   "source": [
    "# Opinions with no Shadow Banning"
   ]
  },
  {
   "cell_type": "code",
   "execution_count": 10,
   "id": "db5af492-21d6-48e0-876e-cb4aa51fef91",
   "metadata": {},
   "outputs": [
    {
     "ename": "KeyboardInterrupt",
     "evalue": "",
     "output_type": "error",
     "traceback": [
      "\u001b[0;31m---------------------------------------------------------------------------\u001b[0m",
      "\u001b[0;31mKeyboardInterrupt\u001b[0m                         Traceback (most recent call last)",
      "\u001b[0;32m<timed exec>\u001b[0m in \u001b[0;36m<module>\u001b[0;34m\u001b[0m\n",
      "\u001b[0;32m~/Documents/GitHub/opinion_dynamics/scripts/shadowban_pyoptsparse.py\u001b[0m in \u001b[0;36msimulate_opinions\u001b[0;34m(params, sys, Ucollocation)\u001b[0m\n\u001b[1;32m    146\u001b[0m         \u001b[0mUcollocation\u001b[0m \u001b[0;34m=\u001b[0m \u001b[0mnp\u001b[0m\u001b[0;34m.\u001b[0m\u001b[0mones\u001b[0m\u001b[0;34m(\u001b[0m\u001b[0;34m(\u001b[0m\u001b[0mne\u001b[0m\u001b[0;34m,\u001b[0m \u001b[0mnpts\u001b[0m\u001b[0;34m)\u001b[0m\u001b[0;34m)\u001b[0m\u001b[0;34m\u001b[0m\u001b[0;34m\u001b[0m\u001b[0m\n\u001b[1;32m    147\u001b[0m \u001b[0;34m\u001b[0m\u001b[0m\n\u001b[0;32m--> 148\u001b[0;31m     resp = ct.input_output_response(\n\u001b[0m\u001b[1;32m    149\u001b[0m                             \u001b[0msys\u001b[0m\u001b[0;34m,\u001b[0m \u001b[0mtimepts\u001b[0m\u001b[0;34m,\u001b[0m \u001b[0mUcollocation\u001b[0m\u001b[0;34m,\u001b[0m \u001b[0mx0\u001b[0m\u001b[0;34m,\u001b[0m\u001b[0;34m\u001b[0m\u001b[0;34m\u001b[0m\u001b[0m\n\u001b[1;32m    150\u001b[0m                             t_eval= t_eval, params = params)\n",
      "\u001b[0;32m~/opt/anaconda3/lib/python3.8/site-packages/control/iosys.py\u001b[0m in \u001b[0;36minput_output_response\u001b[0;34m(sys, T, U, X0, params, transpose, return_x, squeeze, solve_ivp_kwargs, t_eval, **kwargs)\u001b[0m\n\u001b[1;32m   1856\u001b[0m             raise NameError(\"scipy.integrate.solve_ivp not found; \"\n\u001b[1;32m   1857\u001b[0m                             \"use SciPy 1.0 or greater\")\n\u001b[0;32m-> 1858\u001b[0;31m         soln = sp.integrate.solve_ivp(\n\u001b[0m\u001b[1;32m   1859\u001b[0m             \u001b[0mivp_rhs\u001b[0m\u001b[0;34m,\u001b[0m \u001b[0;34m(\u001b[0m\u001b[0mT0\u001b[0m\u001b[0;34m,\u001b[0m \u001b[0mTf\u001b[0m\u001b[0;34m)\u001b[0m\u001b[0;34m,\u001b[0m \u001b[0mX0\u001b[0m\u001b[0;34m,\u001b[0m \u001b[0mt_eval\u001b[0m\u001b[0;34m=\u001b[0m\u001b[0mt_eval\u001b[0m\u001b[0;34m,\u001b[0m\u001b[0;34m\u001b[0m\u001b[0;34m\u001b[0m\u001b[0m\n\u001b[1;32m   1860\u001b[0m             vectorized=False, **solve_ivp_kwargs)\n",
      "\u001b[0;32m~/opt/anaconda3/lib/python3.8/site-packages/scipy/integrate/_ivp/ivp.py\u001b[0m in \u001b[0;36msolve_ivp\u001b[0;34m(fun, t_span, y0, method, t_eval, dense_output, events, vectorized, args, **options)\u001b[0m\n\u001b[1;32m    587\u001b[0m     \u001b[0mstatus\u001b[0m \u001b[0;34m=\u001b[0m \u001b[0;32mNone\u001b[0m\u001b[0;34m\u001b[0m\u001b[0;34m\u001b[0m\u001b[0m\n\u001b[1;32m    588\u001b[0m     \u001b[0;32mwhile\u001b[0m \u001b[0mstatus\u001b[0m \u001b[0;32mis\u001b[0m \u001b[0;32mNone\u001b[0m\u001b[0;34m:\u001b[0m\u001b[0;34m\u001b[0m\u001b[0;34m\u001b[0m\u001b[0m\n\u001b[0;32m--> 589\u001b[0;31m         \u001b[0mmessage\u001b[0m \u001b[0;34m=\u001b[0m \u001b[0msolver\u001b[0m\u001b[0;34m.\u001b[0m\u001b[0mstep\u001b[0m\u001b[0;34m(\u001b[0m\u001b[0;34m)\u001b[0m\u001b[0;34m\u001b[0m\u001b[0;34m\u001b[0m\u001b[0m\n\u001b[0m\u001b[1;32m    590\u001b[0m \u001b[0;34m\u001b[0m\u001b[0m\n\u001b[1;32m    591\u001b[0m         \u001b[0;32mif\u001b[0m \u001b[0msolver\u001b[0m\u001b[0;34m.\u001b[0m\u001b[0mstatus\u001b[0m \u001b[0;34m==\u001b[0m \u001b[0;34m'finished'\u001b[0m\u001b[0;34m:\u001b[0m\u001b[0;34m\u001b[0m\u001b[0;34m\u001b[0m\u001b[0m\n",
      "\u001b[0;32m~/opt/anaconda3/lib/python3.8/site-packages/scipy/integrate/_ivp/base.py\u001b[0m in \u001b[0;36mstep\u001b[0;34m(self)\u001b[0m\n\u001b[1;32m    179\u001b[0m         \u001b[0;32melse\u001b[0m\u001b[0;34m:\u001b[0m\u001b[0;34m\u001b[0m\u001b[0;34m\u001b[0m\u001b[0m\n\u001b[1;32m    180\u001b[0m             \u001b[0mt\u001b[0m \u001b[0;34m=\u001b[0m \u001b[0mself\u001b[0m\u001b[0;34m.\u001b[0m\u001b[0mt\u001b[0m\u001b[0;34m\u001b[0m\u001b[0;34m\u001b[0m\u001b[0m\n\u001b[0;32m--> 181\u001b[0;31m             \u001b[0msuccess\u001b[0m\u001b[0;34m,\u001b[0m \u001b[0mmessage\u001b[0m \u001b[0;34m=\u001b[0m \u001b[0mself\u001b[0m\u001b[0;34m.\u001b[0m\u001b[0m_step_impl\u001b[0m\u001b[0;34m(\u001b[0m\u001b[0;34m)\u001b[0m\u001b[0;34m\u001b[0m\u001b[0;34m\u001b[0m\u001b[0m\n\u001b[0m\u001b[1;32m    182\u001b[0m \u001b[0;34m\u001b[0m\u001b[0m\n\u001b[1;32m    183\u001b[0m             \u001b[0;32mif\u001b[0m \u001b[0;32mnot\u001b[0m \u001b[0msuccess\u001b[0m\u001b[0;34m:\u001b[0m\u001b[0;34m\u001b[0m\u001b[0;34m\u001b[0m\u001b[0m\n",
      "\u001b[0;32m~/opt/anaconda3/lib/python3.8/site-packages/scipy/integrate/_ivp/rk.py\u001b[0m in \u001b[0;36m_step_impl\u001b[0;34m(self)\u001b[0m\n\u001b[1;32m    142\u001b[0m             \u001b[0mh_abs\u001b[0m \u001b[0;34m=\u001b[0m \u001b[0mnp\u001b[0m\u001b[0;34m.\u001b[0m\u001b[0mabs\u001b[0m\u001b[0;34m(\u001b[0m\u001b[0mh\u001b[0m\u001b[0;34m)\u001b[0m\u001b[0;34m\u001b[0m\u001b[0;34m\u001b[0m\u001b[0m\n\u001b[1;32m    143\u001b[0m \u001b[0;34m\u001b[0m\u001b[0m\n\u001b[0;32m--> 144\u001b[0;31m             y_new, f_new = rk_step(self.fun, t, y, self.f, h, self.A,\n\u001b[0m\u001b[1;32m    145\u001b[0m                                    self.B, self.C, self.K)\n\u001b[1;32m    146\u001b[0m             \u001b[0mscale\u001b[0m \u001b[0;34m=\u001b[0m \u001b[0matol\u001b[0m \u001b[0;34m+\u001b[0m \u001b[0mnp\u001b[0m\u001b[0;34m.\u001b[0m\u001b[0mmaximum\u001b[0m\u001b[0;34m(\u001b[0m\u001b[0mnp\u001b[0m\u001b[0;34m.\u001b[0m\u001b[0mabs\u001b[0m\u001b[0;34m(\u001b[0m\u001b[0my\u001b[0m\u001b[0;34m)\u001b[0m\u001b[0;34m,\u001b[0m \u001b[0mnp\u001b[0m\u001b[0;34m.\u001b[0m\u001b[0mabs\u001b[0m\u001b[0;34m(\u001b[0m\u001b[0my_new\u001b[0m\u001b[0;34m)\u001b[0m\u001b[0;34m)\u001b[0m \u001b[0;34m*\u001b[0m \u001b[0mrtol\u001b[0m\u001b[0;34m\u001b[0m\u001b[0;34m\u001b[0m\u001b[0m\n",
      "\u001b[0;32m~/opt/anaconda3/lib/python3.8/site-packages/scipy/integrate/_ivp/rk.py\u001b[0m in \u001b[0;36mrk_step\u001b[0;34m(fun, t, y, f, h, A, B, C, K)\u001b[0m\n\u001b[1;32m     62\u001b[0m     \u001b[0;32mfor\u001b[0m \u001b[0ms\u001b[0m\u001b[0;34m,\u001b[0m \u001b[0;34m(\u001b[0m\u001b[0ma\u001b[0m\u001b[0;34m,\u001b[0m \u001b[0mc\u001b[0m\u001b[0;34m)\u001b[0m \u001b[0;32min\u001b[0m \u001b[0menumerate\u001b[0m\u001b[0;34m(\u001b[0m\u001b[0mzip\u001b[0m\u001b[0;34m(\u001b[0m\u001b[0mA\u001b[0m\u001b[0;34m[\u001b[0m\u001b[0;36m1\u001b[0m\u001b[0;34m:\u001b[0m\u001b[0;34m]\u001b[0m\u001b[0;34m,\u001b[0m \u001b[0mC\u001b[0m\u001b[0;34m[\u001b[0m\u001b[0;36m1\u001b[0m\u001b[0;34m:\u001b[0m\u001b[0;34m]\u001b[0m\u001b[0;34m)\u001b[0m\u001b[0;34m,\u001b[0m \u001b[0mstart\u001b[0m\u001b[0;34m=\u001b[0m\u001b[0;36m1\u001b[0m\u001b[0;34m)\u001b[0m\u001b[0;34m:\u001b[0m\u001b[0;34m\u001b[0m\u001b[0;34m\u001b[0m\u001b[0m\n\u001b[1;32m     63\u001b[0m         \u001b[0mdy\u001b[0m \u001b[0;34m=\u001b[0m \u001b[0mnp\u001b[0m\u001b[0;34m.\u001b[0m\u001b[0mdot\u001b[0m\u001b[0;34m(\u001b[0m\u001b[0mK\u001b[0m\u001b[0;34m[\u001b[0m\u001b[0;34m:\u001b[0m\u001b[0ms\u001b[0m\u001b[0;34m]\u001b[0m\u001b[0;34m.\u001b[0m\u001b[0mT\u001b[0m\u001b[0;34m,\u001b[0m \u001b[0ma\u001b[0m\u001b[0;34m[\u001b[0m\u001b[0;34m:\u001b[0m\u001b[0ms\u001b[0m\u001b[0;34m]\u001b[0m\u001b[0;34m)\u001b[0m \u001b[0;34m*\u001b[0m \u001b[0mh\u001b[0m\u001b[0;34m\u001b[0m\u001b[0;34m\u001b[0m\u001b[0m\n\u001b[0;32m---> 64\u001b[0;31m         \u001b[0mK\u001b[0m\u001b[0;34m[\u001b[0m\u001b[0ms\u001b[0m\u001b[0;34m]\u001b[0m \u001b[0;34m=\u001b[0m \u001b[0mfun\u001b[0m\u001b[0;34m(\u001b[0m\u001b[0mt\u001b[0m \u001b[0;34m+\u001b[0m \u001b[0mc\u001b[0m \u001b[0;34m*\u001b[0m \u001b[0mh\u001b[0m\u001b[0;34m,\u001b[0m \u001b[0my\u001b[0m \u001b[0;34m+\u001b[0m \u001b[0mdy\u001b[0m\u001b[0;34m)\u001b[0m\u001b[0;34m\u001b[0m\u001b[0;34m\u001b[0m\u001b[0m\n\u001b[0m\u001b[1;32m     65\u001b[0m \u001b[0;34m\u001b[0m\u001b[0m\n\u001b[1;32m     66\u001b[0m     \u001b[0my_new\u001b[0m \u001b[0;34m=\u001b[0m \u001b[0my\u001b[0m \u001b[0;34m+\u001b[0m \u001b[0mh\u001b[0m \u001b[0;34m*\u001b[0m \u001b[0mnp\u001b[0m\u001b[0;34m.\u001b[0m\u001b[0mdot\u001b[0m\u001b[0;34m(\u001b[0m\u001b[0mK\u001b[0m\u001b[0;34m[\u001b[0m\u001b[0;34m:\u001b[0m\u001b[0;34m-\u001b[0m\u001b[0;36m1\u001b[0m\u001b[0;34m]\u001b[0m\u001b[0;34m.\u001b[0m\u001b[0mT\u001b[0m\u001b[0;34m,\u001b[0m \u001b[0mB\u001b[0m\u001b[0;34m)\u001b[0m\u001b[0;34m\u001b[0m\u001b[0;34m\u001b[0m\u001b[0m\n",
      "\u001b[0;32m~/opt/anaconda3/lib/python3.8/site-packages/scipy/integrate/_ivp/base.py\u001b[0m in \u001b[0;36mfun\u001b[0;34m(t, y)\u001b[0m\n\u001b[1;32m    136\u001b[0m         \u001b[0;32mdef\u001b[0m \u001b[0mfun\u001b[0m\u001b[0;34m(\u001b[0m\u001b[0mt\u001b[0m\u001b[0;34m,\u001b[0m \u001b[0my\u001b[0m\u001b[0;34m)\u001b[0m\u001b[0;34m:\u001b[0m\u001b[0;34m\u001b[0m\u001b[0;34m\u001b[0m\u001b[0m\n\u001b[1;32m    137\u001b[0m             \u001b[0mself\u001b[0m\u001b[0;34m.\u001b[0m\u001b[0mnfev\u001b[0m \u001b[0;34m+=\u001b[0m \u001b[0;36m1\u001b[0m\u001b[0;34m\u001b[0m\u001b[0;34m\u001b[0m\u001b[0m\n\u001b[0;32m--> 138\u001b[0;31m             \u001b[0;32mreturn\u001b[0m \u001b[0mself\u001b[0m\u001b[0;34m.\u001b[0m\u001b[0mfun_single\u001b[0m\u001b[0;34m(\u001b[0m\u001b[0mt\u001b[0m\u001b[0;34m,\u001b[0m \u001b[0my\u001b[0m\u001b[0;34m)\u001b[0m\u001b[0;34m\u001b[0m\u001b[0;34m\u001b[0m\u001b[0m\n\u001b[0m\u001b[1;32m    139\u001b[0m \u001b[0;34m\u001b[0m\u001b[0m\n\u001b[1;32m    140\u001b[0m         \u001b[0mself\u001b[0m\u001b[0;34m.\u001b[0m\u001b[0mfun\u001b[0m \u001b[0;34m=\u001b[0m \u001b[0mfun\u001b[0m\u001b[0;34m\u001b[0m\u001b[0;34m\u001b[0m\u001b[0m\n",
      "\u001b[0;32m~/opt/anaconda3/lib/python3.8/site-packages/scipy/integrate/_ivp/base.py\u001b[0m in \u001b[0;36mfun_wrapped\u001b[0;34m(t, y)\u001b[0m\n\u001b[1;32m     18\u001b[0m \u001b[0;34m\u001b[0m\u001b[0m\n\u001b[1;32m     19\u001b[0m     \u001b[0;32mdef\u001b[0m \u001b[0mfun_wrapped\u001b[0m\u001b[0;34m(\u001b[0m\u001b[0mt\u001b[0m\u001b[0;34m,\u001b[0m \u001b[0my\u001b[0m\u001b[0;34m)\u001b[0m\u001b[0;34m:\u001b[0m\u001b[0;34m\u001b[0m\u001b[0;34m\u001b[0m\u001b[0m\n\u001b[0;32m---> 20\u001b[0;31m         \u001b[0;32mreturn\u001b[0m \u001b[0mnp\u001b[0m\u001b[0;34m.\u001b[0m\u001b[0masarray\u001b[0m\u001b[0;34m(\u001b[0m\u001b[0mfun\u001b[0m\u001b[0;34m(\u001b[0m\u001b[0mt\u001b[0m\u001b[0;34m,\u001b[0m \u001b[0my\u001b[0m\u001b[0;34m)\u001b[0m\u001b[0;34m,\u001b[0m \u001b[0mdtype\u001b[0m\u001b[0;34m=\u001b[0m\u001b[0mdtype\u001b[0m\u001b[0;34m)\u001b[0m\u001b[0;34m\u001b[0m\u001b[0;34m\u001b[0m\u001b[0m\n\u001b[0m\u001b[1;32m     21\u001b[0m \u001b[0;34m\u001b[0m\u001b[0m\n\u001b[1;32m     22\u001b[0m     \u001b[0;32mreturn\u001b[0m \u001b[0mfun_wrapped\u001b[0m\u001b[0;34m,\u001b[0m \u001b[0my0\u001b[0m\u001b[0;34m\u001b[0m\u001b[0;34m\u001b[0m\u001b[0m\n",
      "\u001b[0;32m~/opt/anaconda3/lib/python3.8/site-packages/control/iosys.py\u001b[0m in \u001b[0;36mivp_rhs\u001b[0;34m(t, x)\u001b[0m\n\u001b[1;32m   1849\u001b[0m     \u001b[0;31m# Create a lambda function for the right hand side\u001b[0m\u001b[0;34m\u001b[0m\u001b[0;34m\u001b[0m\u001b[0;34m\u001b[0m\u001b[0m\n\u001b[1;32m   1850\u001b[0m     \u001b[0;32mdef\u001b[0m \u001b[0mivp_rhs\u001b[0m\u001b[0;34m(\u001b[0m\u001b[0mt\u001b[0m\u001b[0;34m,\u001b[0m \u001b[0mx\u001b[0m\u001b[0;34m)\u001b[0m\u001b[0;34m:\u001b[0m\u001b[0;34m\u001b[0m\u001b[0;34m\u001b[0m\u001b[0m\n\u001b[0;32m-> 1851\u001b[0;31m         \u001b[0;32mreturn\u001b[0m \u001b[0msys\u001b[0m\u001b[0;34m.\u001b[0m\u001b[0m_rhs\u001b[0m\u001b[0;34m(\u001b[0m\u001b[0mt\u001b[0m\u001b[0;34m,\u001b[0m \u001b[0mx\u001b[0m\u001b[0;34m,\u001b[0m \u001b[0mufun\u001b[0m\u001b[0;34m(\u001b[0m\u001b[0mt\u001b[0m\u001b[0;34m)\u001b[0m\u001b[0;34m)\u001b[0m\u001b[0;34m\u001b[0m\u001b[0;34m\u001b[0m\u001b[0m\n\u001b[0m\u001b[1;32m   1852\u001b[0m \u001b[0;34m\u001b[0m\u001b[0m\n\u001b[1;32m   1853\u001b[0m     \u001b[0;31m# Perform the simulation\u001b[0m\u001b[0;34m\u001b[0m\u001b[0;34m\u001b[0m\u001b[0;34m\u001b[0m\u001b[0m\n",
      "\u001b[0;32m~/opt/anaconda3/lib/python3.8/site-packages/control/iosys.py\u001b[0m in \u001b[0;36m_rhs\u001b[0;34m(self, t, x, u)\u001b[0m\n\u001b[1;32m    862\u001b[0m \u001b[0;34m\u001b[0m\u001b[0m\n\u001b[1;32m    863\u001b[0m     \u001b[0;32mdef\u001b[0m \u001b[0m_rhs\u001b[0m\u001b[0;34m(\u001b[0m\u001b[0mself\u001b[0m\u001b[0;34m,\u001b[0m \u001b[0mt\u001b[0m\u001b[0;34m,\u001b[0m \u001b[0mx\u001b[0m\u001b[0;34m,\u001b[0m \u001b[0mu\u001b[0m\u001b[0;34m)\u001b[0m\u001b[0;34m:\u001b[0m\u001b[0;34m\u001b[0m\u001b[0;34m\u001b[0m\u001b[0m\n\u001b[0;32m--> 864\u001b[0;31m         \u001b[0mxdot\u001b[0m \u001b[0;34m=\u001b[0m \u001b[0mself\u001b[0m\u001b[0;34m.\u001b[0m\u001b[0mupdfcn\u001b[0m\u001b[0;34m(\u001b[0m\u001b[0mt\u001b[0m\u001b[0;34m,\u001b[0m \u001b[0mx\u001b[0m\u001b[0;34m,\u001b[0m \u001b[0mu\u001b[0m\u001b[0;34m,\u001b[0m \u001b[0mself\u001b[0m\u001b[0;34m.\u001b[0m\u001b[0m_current_params\u001b[0m\u001b[0;34m)\u001b[0m\u001b[0;31m \u001b[0m\u001b[0;31m\\\u001b[0m\u001b[0;34m\u001b[0m\u001b[0;34m\u001b[0m\u001b[0m\n\u001b[0m\u001b[1;32m    865\u001b[0m             \u001b[0;32mif\u001b[0m \u001b[0mself\u001b[0m\u001b[0;34m.\u001b[0m\u001b[0mupdfcn\u001b[0m \u001b[0;32mis\u001b[0m \u001b[0;32mnot\u001b[0m \u001b[0;32mNone\u001b[0m \u001b[0;32melse\u001b[0m \u001b[0;34m[\u001b[0m\u001b[0;34m]\u001b[0m\u001b[0;34m\u001b[0m\u001b[0;34m\u001b[0m\u001b[0m\n\u001b[1;32m    866\u001b[0m         \u001b[0;32mreturn\u001b[0m \u001b[0mnp\u001b[0m\u001b[0;34m.\u001b[0m\u001b[0marray\u001b[0m\u001b[0;34m(\u001b[0m\u001b[0mxdot\u001b[0m\u001b[0;34m)\u001b[0m\u001b[0;34m.\u001b[0m\u001b[0mreshape\u001b[0m\u001b[0;34m(\u001b[0m\u001b[0;34m(\u001b[0m\u001b[0;34m-\u001b[0m\u001b[0;36m1\u001b[0m\u001b[0;34m,\u001b[0m\u001b[0;34m)\u001b[0m\u001b[0;34m)\u001b[0m\u001b[0;34m\u001b[0m\u001b[0;34m\u001b[0m\u001b[0m\n",
      "\u001b[0;32m~/Documents/GitHub/opinion_dynamics/scripts/shadowban_pyoptsparse.py\u001b[0m in \u001b[0;36msys_update\u001b[0;34m(t, x, u, params)\u001b[0m\n\u001b[1;32m     77\u001b[0m \u001b[0;34m\u001b[0m\u001b[0m\n\u001b[1;32m     78\u001b[0m     \u001b[0;31m# Return the derivative of the state\u001b[0m\u001b[0;34m\u001b[0m\u001b[0;34m\u001b[0m\u001b[0;34m\u001b[0m\u001b[0m\n\u001b[0;32m---> 79\u001b[0;31m     \u001b[0;32mreturn\u001b[0m \u001b[0mdxdt\u001b[0m\u001b[0;34m(\u001b[0m\u001b[0mx\u001b[0m\u001b[0;34m,\u001b[0m \u001b[0mt\u001b[0m\u001b[0;34m,\u001b[0m \u001b[0mrates\u001b[0m\u001b[0;34m,\u001b[0m \u001b[0mA\u001b[0m\u001b[0;34m,\u001b[0m \u001b[0mtau\u001b[0m\u001b[0;34m,\u001b[0m \u001b[0momega\u001b[0m\u001b[0;34m,\u001b[0m \u001b[0mU\u001b[0m\u001b[0;34m)\u001b[0m\u001b[0;34m\u001b[0m\u001b[0;34m\u001b[0m\u001b[0m\n\u001b[0m\u001b[1;32m     80\u001b[0m \u001b[0;34m\u001b[0m\u001b[0m\n\u001b[1;32m     81\u001b[0m \u001b[0;31m#########################################################\u001b[0m\u001b[0;34m\u001b[0m\u001b[0;34m\u001b[0m\u001b[0;34m\u001b[0m\u001b[0m\n",
      "\u001b[0;32m~/Documents/GitHub/opinion_dynamics/scripts/shadowban_pyoptsparse.py\u001b[0m in \u001b[0;36mdxdt\u001b[0;34m(opinions, t, rates, A, tau, omega, U)\u001b[0m\n\u001b[1;32m     54\u001b[0m \u001b[0;31m#time derivative of opinions for odeint\u001b[0m\u001b[0;34m\u001b[0m\u001b[0;34m\u001b[0m\u001b[0;34m\u001b[0m\u001b[0m\n\u001b[1;32m     55\u001b[0m \u001b[0;32mdef\u001b[0m \u001b[0mdxdt\u001b[0m\u001b[0;34m(\u001b[0m\u001b[0mopinions\u001b[0m\u001b[0;34m:\u001b[0m\u001b[0mnp\u001b[0m\u001b[0;34m.\u001b[0m\u001b[0mndarray\u001b[0m\u001b[0;34m,\u001b[0m \u001b[0mt\u001b[0m\u001b[0;34m:\u001b[0m\u001b[0mfloat\u001b[0m\u001b[0;34m,\u001b[0m \u001b[0mrates\u001b[0m\u001b[0;34m:\u001b[0m\u001b[0mList\u001b[0m\u001b[0;34m,\u001b[0m \u001b[0mA\u001b[0m\u001b[0;34m,\u001b[0m \u001b[0mtau\u001b[0m\u001b[0;34m:\u001b[0m\u001b[0mfloat\u001b[0m\u001b[0;34m,\u001b[0m \u001b[0momega\u001b[0m\u001b[0;34m:\u001b[0m\u001b[0mfloat\u001b[0m\u001b[0;34m,\u001b[0m \u001b[0mU\u001b[0m \u001b[0;34m=\u001b[0m \u001b[0;32mNone\u001b[0m\u001b[0;34m)\u001b[0m\u001b[0;34m:\u001b[0m\u001b[0;34m\u001b[0m\u001b[0;34m\u001b[0m\u001b[0m\n\u001b[0;32m---> 56\u001b[0;31m     \u001b[0;32mreturn\u001b[0m \u001b[0mstep_fast_opinion\u001b[0m\u001b[0;34m(\u001b[0m\u001b[0mopinions\u001b[0m\u001b[0;34m,\u001b[0m \u001b[0mrates\u001b[0m\u001b[0;34m,\u001b[0m \u001b[0mA\u001b[0m\u001b[0;34m,\u001b[0m \u001b[0mtau\u001b[0m\u001b[0;34m,\u001b[0m \u001b[0momega\u001b[0m\u001b[0;34m,\u001b[0m \u001b[0mU\u001b[0m\u001b[0;34m)\u001b[0m\u001b[0;34m\u001b[0m\u001b[0;34m\u001b[0m\u001b[0m\n\u001b[0m\u001b[1;32m     57\u001b[0m \u001b[0;34m\u001b[0m\u001b[0m\n\u001b[1;32m     58\u001b[0m \u001b[0;34m\u001b[0m\u001b[0m\n",
      "\u001b[0;32m~/Documents/GitHub/opinion_dynamics/scripts/shadowban_pyoptsparse.py\u001b[0m in \u001b[0;36mstep_fast_opinion\u001b[0;34m(opinions, rates, A, tau, omega, U)\u001b[0m\n\u001b[1;32m     39\u001b[0m                       U = None):\n\u001b[1;32m     40\u001b[0m     \u001b[0mn\u001b[0m \u001b[0;34m=\u001b[0m \u001b[0mlen\u001b[0m\u001b[0;34m(\u001b[0m\u001b[0mrates\u001b[0m\u001b[0;34m)\u001b[0m\u001b[0;34m\u001b[0m\u001b[0;34m\u001b[0m\u001b[0m\n\u001b[0;32m---> 41\u001b[0;31m     \u001b[0mdata\u001b[0m \u001b[0;34m=\u001b[0m \u001b[0mshift\u001b[0m\u001b[0;34m(\u001b[0m\u001b[0mopinions\u001b[0m\u001b[0;34m[\u001b[0m\u001b[0mA\u001b[0m\u001b[0;34m.\u001b[0m\u001b[0mrow\u001b[0m\u001b[0;34m]\u001b[0m\u001b[0;34m-\u001b[0m \u001b[0mopinions\u001b[0m\u001b[0;34m[\u001b[0m\u001b[0mA\u001b[0m\u001b[0;34m.\u001b[0m\u001b[0mcol\u001b[0m\u001b[0;34m]\u001b[0m\u001b[0;34m,\u001b[0m\u001b[0mtau\u001b[0m\u001b[0;34m,\u001b[0m\u001b[0momega\u001b[0m\u001b[0;34m)\u001b[0m \u001b[0;31m#shift value\u001b[0m\u001b[0;34m\u001b[0m\u001b[0;34m\u001b[0m\u001b[0m\n\u001b[0m\u001b[1;32m     42\u001b[0m     \u001b[0mShift_matrix\u001b[0m \u001b[0;34m=\u001b[0m \u001b[0mcoo_matrix\u001b[0m\u001b[0;34m(\u001b[0m\u001b[0;34m(\u001b[0m\u001b[0mdata\u001b[0m\u001b[0;34m,\u001b[0m \u001b[0;34m(\u001b[0m\u001b[0mA\u001b[0m\u001b[0;34m.\u001b[0m\u001b[0mrow\u001b[0m\u001b[0;34m,\u001b[0m \u001b[0mA\u001b[0m\u001b[0;34m.\u001b[0m\u001b[0mcol\u001b[0m\u001b[0;34m)\u001b[0m\u001b[0;34m)\u001b[0m\u001b[0;34m,\u001b[0m \u001b[0mshape\u001b[0m\u001b[0;34m=\u001b[0m\u001b[0mA\u001b[0m\u001b[0;34m.\u001b[0m\u001b[0mshape\u001b[0m\u001b[0;34m)\u001b[0m\u001b[0;34m\u001b[0m\u001b[0;34m\u001b[0m\u001b[0m\n\u001b[1;32m     43\u001b[0m     \u001b[0;31m#scale rates on edges by shadow banning policy values\u001b[0m\u001b[0;34m\u001b[0m\u001b[0;34m\u001b[0m\u001b[0;34m\u001b[0m\u001b[0m\n",
      "\u001b[0;32m~/Documents/GitHub/opinion_dynamics/scripts/shadowban_pyoptsparse.py\u001b[0m in \u001b[0;36mshift\u001b[0;34m(x, tau, omega)\u001b[0m\n\u001b[1;32m     23\u001b[0m \u001b[0;32mdef\u001b[0m \u001b[0mshift\u001b[0m\u001b[0;34m(\u001b[0m\u001b[0mx\u001b[0m\u001b[0;34m,\u001b[0m\u001b[0mtau\u001b[0m\u001b[0;34m,\u001b[0m\u001b[0momega\u001b[0m\u001b[0;34m)\u001b[0m\u001b[0;34m:\u001b[0m\u001b[0;34m\u001b[0m\u001b[0;34m\u001b[0m\u001b[0m\n\u001b[1;32m     24\u001b[0m     \u001b[0mx\u001b[0m \u001b[0;34m=\u001b[0m \u001b[0mnp\u001b[0m\u001b[0;34m.\u001b[0m\u001b[0mclip\u001b[0m\u001b[0;34m(\u001b[0m\u001b[0mx\u001b[0m\u001b[0;34m,\u001b[0m \u001b[0;34m-\u001b[0m\u001b[0;36m1\u001b[0m\u001b[0;34m,\u001b[0m \u001b[0;36m1\u001b[0m\u001b[0;34m)\u001b[0m\u001b[0;34m\u001b[0m\u001b[0;34m\u001b[0m\u001b[0m\n\u001b[0;32m---> 25\u001b[0;31m     \u001b[0my\u001b[0m \u001b[0;34m=\u001b[0m \u001b[0momega\u001b[0m \u001b[0;34m*\u001b[0m\u001b[0mx\u001b[0m\u001b[0;34m*\u001b[0m\u001b[0mnp\u001b[0m\u001b[0;34m.\u001b[0m\u001b[0mexp\u001b[0m\u001b[0;34m(\u001b[0m\u001b[0;34m-\u001b[0m\u001b[0mnp\u001b[0m\u001b[0;34m.\u001b[0m\u001b[0mabs\u001b[0m\u001b[0;34m(\u001b[0m\u001b[0mx\u001b[0m\u001b[0;34m/\u001b[0m\u001b[0mtau\u001b[0m\u001b[0;34m)\u001b[0m\u001b[0;34m**\u001b[0m\u001b[0;36m2\u001b[0m\u001b[0;34m/\u001b[0m\u001b[0;36m2\u001b[0m\u001b[0;34m)\u001b[0m\u001b[0;34m\u001b[0m\u001b[0;34m\u001b[0m\u001b[0m\n\u001b[0m\u001b[1;32m     26\u001b[0m     \u001b[0;32mreturn\u001b[0m\u001b[0;34m(\u001b[0m\u001b[0my\u001b[0m\u001b[0;34m)\u001b[0m\u001b[0;34m\u001b[0m\u001b[0;34m\u001b[0m\u001b[0m\n\u001b[1;32m     27\u001b[0m \u001b[0;34m\u001b[0m\u001b[0m\n",
      "\u001b[0;31mKeyboardInterrupt\u001b[0m: "
     ]
    }
   ],
   "source": [
    "%%time\n",
    "T, Opinions_no_agent, _ = sb.simulate_opinions(params, sys_no_agent)\n",
    "obj_no_agent = sb.cost_sim(OBJECTIVE, Opinions_no_agent)"
   ]
  },
  {
   "cell_type": "markdown",
   "id": "11e5ad0f",
   "metadata": {},
   "source": [
    "# Opinions with LP Shadow Banning"
   ]
  },
  {
   "cell_type": "code",
   "execution_count": null,
   "id": "5f69c9a8",
   "metadata": {},
   "outputs": [],
   "source": [
    "%%time\n",
    "\n",
    "for OBJECTIVE in ['MEAN','VARMIN','VARMAX']:\n",
    "    params['OBJECTIVE'] = OBJECTIVE\n",
    "    obj_no_agent = sb.cost_sim(OBJECTIVE, Opinions_no_agent)\n",
    "    #LP shadow banning \n",
    "    T, Opinions_lp, _ = sb.simulate_opinions(params, sys_lp)\n",
    "    obj_lp = sb.cost_sim(OBJECTIVE, Opinions_lp)\n",
    "\n",
    "    fig = plt.figure(figsize = (10,4))\n",
    "    plt.subplot(1,2,1)\n",
    "    plot_opinion_quantiles(T, Opinions_no_agent)\n",
    "#     plot_opinions(T, Opinions_no_agent)\n",
    "    plt.ylim(0, 1)\n",
    "    plt.title(f\"{nv} nodes {OBJECTIVE} = {obj_no_agent:.3f}\")\n",
    "\n",
    "    plt.subplot(1,2,2)\n",
    "    plot_opinion_quantiles(T, Opinions_lp)\n",
    "#     plot_opinions(T, Opinions_lp)\n",
    "    plt.ylim(0, 1)\n",
    "    plt.title(f\"{nv} nodes LP Shadow Ban {OBJECTIVE} = {obj_lp:.3f}\")\n",
    "    \n",
    "    #plt.savefig(f\"figures/shadowban_{OBJECTIVE}_{nv}_node_sbm.jpeg\")\n",
    "\n",
    "    plt.show()"
   ]
  },
  {
   "cell_type": "code",
   "execution_count": null,
   "id": "24e7f890-474a-4b2b-a85c-5075869d26bb",
   "metadata": {},
   "outputs": [],
   "source": []
  }
 ],
 "metadata": {
  "kernelspec": {
   "display_name": "Python 3",
   "language": "python",
   "name": "python3"
  },
  "language_info": {
   "codemirror_mode": {
    "name": "ipython",
    "version": 3
   },
   "file_extension": ".py",
   "mimetype": "text/x-python",
   "name": "python",
   "nbconvert_exporter": "python",
   "pygments_lexer": "ipython3",
   "version": "3.8.8"
  },
  "toc-autonumbering": true,
  "toc-showcode": false,
  "toc-showmarkdowntxt": false,
  "toc-showtags": false
 },
 "nbformat": 4,
 "nbformat_minor": 5
}
