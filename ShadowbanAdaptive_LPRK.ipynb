{
 "cells": [
  {
   "cell_type": "markdown",
   "id": "c92ce4e4",
   "metadata": {},
   "source": [
    "# LP-based Shadow Ban Policy"
   ]
  },
  {
   "cell_type": "markdown",
   "id": "9d265e44-b1cb-45ec-bd47-6a768e1fd444",
   "metadata": {},
   "source": [
    "## Clone and Install if Using Cluster"
   ]
  },
  {
   "cell_type": "code",
   "execution_count": null,
   "id": "3d40d0e2-3d25-4563-a17e-a15efcdc8fa6",
   "metadata": {},
   "outputs": [],
   "source": [
    "!git clone https://github.com/zlisto/opinion_dynamics\n",
    "import os\n",
    "os.chdir(\"opinion_dynamics\")\n",
    "\n",
    "# Add opinoin_dynamics. when importing scripts, eg, from opinion_dynamics.scripts.opinion_data import * # load twitter network"
   ]
  },
  {
   "cell_type": "markdown",
   "id": "e8363fef-0d59-4bf1-a265-2d2b700afbd4",
   "metadata": {},
   "source": [
    "# Import Packages"
   ]
  },
  {
   "cell_type": "code",
   "execution_count": 1,
   "id": "9494acb2",
   "metadata": {},
   "outputs": [],
   "source": [
    "import numpy as np\n",
    "from scipy.optimize import linprog # linear programming solver\n",
    "\n",
    "import networkx as nx # create synthetic network\n",
    "\n",
    "from scripts.opinion_data import * # load twitter network\n",
    "from scripts.dynamics_simulator import * # class for shadow ban LP optimization and RK simulation\n",
    "from scripts.opinion_visualization import * # plot simulation results\n",
    "\n",
    "import matplotlib.pyplot as plt\n",
    "import time # check running time\n",
    "import psutil # check CPU and memory usage\n",
    "\n",
    "import json # save results in json"
   ]
  },
  {
   "cell_type": "markdown",
   "id": "91544111",
   "metadata": {},
   "source": [
    "# Initialization"
   ]
  },
  {
   "cell_type": "markdown",
   "id": "59b3b5c8",
   "metadata": {},
   "source": [
    "## Load Network\n",
    "\n",
    "For your network `G` you need the following node features\n",
    "   1. `rates` = array of posting rate of each node\n",
    "   2. `opinions0` = array of initial opinions of each node"
   ]
  },
  {
   "cell_type": "markdown",
   "id": "9cbb49fa-4c07-4eb5-b573-93c050387558",
   "metadata": {
    "tags": []
   },
   "source": [
    "### Load Synthetic Network"
   ]
  },
  {
   "cell_type": "code",
   "execution_count": null,
   "id": "7b33b276",
   "metadata": {},
   "outputs": [],
   "source": [
    "n0 = 20\n",
    "nc = int(n0/2)\n",
    "sizes = [nc, nc]\n",
    "p0, p1 = 8/n0, 1/n0\n",
    "probs = [[p0, p1], [p1, p0]]\n",
    "G = nx.DiGraph(nx.stochastic_block_model(sizes, probs, seed=0))\n",
    "\n",
    "for i in range(nc):\n",
    "    rate = 1\n",
    "    opinion0 = i/(nc-1)/2 \n",
    "    opinion1 = 1-i/(nc-1)/2 \n",
    "    G.nodes[i]['opinion'] = opinion0\n",
    "    G.nodes[i+nc]['opinion'] = opinion1\n",
    "    G.nodes[i]['rate'] = 1\n",
    "    G.nodes[i+nc]['rate'] = 1\n",
    "fig = draw_network(G)\n",
    "\n",
    "A = nx.adjacency_matrix(G)\n",
    "A = A.tocoo()\n",
    "assert n0 == A.shape[0]  #number of nodes in network should equal shape of A\n",
    "rates = np.array([G.nodes[v][\"rate\"] for v in G.nodes()])  #posting rates of nodes\n",
    "opinions0 = np.array([G.nodes[v][\"opinion\"] for v in G.nodes()])  #initial opinions of nodes\n",
    "\n",
    "plt.hist(opinions0)\n",
    "plt.show()\n",
    "\n",
    "E0 = nx.incidence_matrix(G,oriented=True)\n",
    "E0 = E0.tocoo()\n",
    "ind = E0.data>0\n",
    "E = coo_matrix((E0.data[ind], (E0.row[ind], E0.col[ind])), E0.shape)  #incidence matrix with only tail of edge\n",
    "\n",
    "\n",
    "network_params = {'A':A, 'rates':rates, 'opinions0':opinions0, 'E':E}\n",
    "network_params['data_name'] = 'synthetic'\n",
    "\n",
    "network_params"
   ]
  },
  {
   "cell_type": "markdown",
   "id": "19e98cac",
   "metadata": {},
   "source": [
    "### Load US Election Full Data"
   ]
  },
  {
   "cell_type": "code",
   "execution_count": 2,
   "id": "5972f13e",
   "metadata": {},
   "outputs": [
    {
     "name": "stdout",
     "output_type": "stream",
     "text": [
      "Mean rate 0.09730295339735406 tweets/day\n",
      "CPU times: user 9.94 s, sys: 962 ms, total: 10.9 s\n",
      "Wall time: 12.1 s\n"
     ]
    },
    {
     "data": {
      "text/plain": [
       "{'A': <77563x77563 sparse matrix of type '<class 'numpy.float64'>'\n",
       " \twith 5022773 stored elements in COOrdinate format>,\n",
       " 'E': <77563x5022773 sparse matrix of type '<class 'numpy.float64'>'\n",
       " \twith 5022773 stored elements in COOrdinate format>,\n",
       " 'rates': array([0.01923077, 0.04166667, 0.01282051, ..., 0.04487179, 0.00961538,\n",
       "        1.31089744]),\n",
       " 'opinions0': array([0.62639551, 0.33246811, 0.17944451, ..., 0.24893551, 0.39323948,\n",
       "        0.23936598]),\n",
       " 'data_name': 'US Election'}"
      ]
     },
     "execution_count": 2,
     "metadata": {},
     "output_type": "execute_result"
    },
    {
     "data": {
      "image/png": "[encoded data removed]",
      "text/plain": [
       "<Figure size 432x288 with 1 Axes>"
      ]
     },
     "metadata": {
      "needs_background": "light"
     },
     "output_type": "display_data"
    }
   ],
   "source": [
    "%%time\n",
    "network_params = load_us_election()\n",
    "network_params['data_name'] = 'US Election'\n",
    "\n",
    "plt.hist(network_params['opinions0'])\n",
    "print(f\"Mean rate {network_params['rates'].mean()} tweets/day\")\n",
    "network_params"
   ]
  },
  {
   "cell_type": "markdown",
   "id": "e4adc1af-f479-429b-9851-ee1a56daec51",
   "metadata": {},
   "source": [
    "### Load Gilets Jaunes Full Data"
   ]
  },
  {
   "cell_type": "code",
   "execution_count": null,
   "id": "6f05b9e4-0be1-4f2c-89a7-313ca77f09e5",
   "metadata": {},
   "outputs": [],
   "source": [
    "%%time\n",
    "network_params = load_giletsjaunes()\n",
    "network_params['data_name'] = 'Gilets Jaunes'\n",
    "\n",
    "plt.hist(network_params['opinions0'])\n",
    "print(f\"Mean rate {network_params['rates'].mean()} tweets/day\")\n",
    "network_params"
   ]
  },
  {
   "cell_type": "markdown",
   "id": "2a9b96e7",
   "metadata": {},
   "source": [
    "## Set Simulation and Optimization Parameters"
   ]
  },
  {
   "cell_type": "code",
   "execution_count": 3,
   "id": "f5ce93da",
   "metadata": {},
   "outputs": [
    {
     "data": {
      "text/plain": [
       "{'A': <77563x77563 sparse matrix of type '<class 'numpy.float64'>'\n",
       " \twith 5022773 stored elements in COOrdinate format>,\n",
       " 'E': <77563x5022773 sparse matrix of type '<class 'numpy.float64'>'\n",
       " \twith 5022773 stored elements in COOrdinate format>,\n",
       " 'rates': array([0.01923077, 0.04166667, 0.01282051, ..., 0.04487179, 0.00961538,\n",
       "        1.31089744]),\n",
       " 'opinions0': array([0.62639551, 0.33246811, 0.17944451, ..., 0.24893551, 0.39323948,\n",
       "        0.23936598]),\n",
       " 'data_name': 'US Election',\n",
       " 'tau': 0.1,\n",
       " 'omega': 0.1,\n",
       " 'shift': <function __main__.shift(x)>,\n",
       " 'Tf': 180,\n",
       " 'control_steps': 180,\n",
       " 'sim_steps': 3,\n",
       " 'OBJECTIVE': 'MEAN',\n",
       " 'smax': 0.5}"
      ]
     },
     "execution_count": 3,
     "metadata": {},
     "output_type": "execute_result"
    }
   ],
   "source": [
    "#simulation parameters\n",
    "tau = 0.1\n",
    "omega = 0.1\n",
    "\n",
    "#shift function f\n",
    "def shift(x):\n",
    "    x = np.clip(x, -1, 1)\n",
    "    y = omega *x*np.exp(-np.abs(x/tau)**2/2)\n",
    "    \n",
    "    return(y)\n",
    "\n",
    "#for dynamics_simulator.py\n",
    "Tf = 180 #final time of simulator [days]\n",
    "control_steps = Tf\n",
    "sim_steps = 3\n",
    "\n",
    "#optimization parameters \n",
    "smax = 0.5 #max strength of shadow banning at any time\n",
    "OBJECTIVE = 'MEAN' #integral cost type\n",
    "assert OBJECTIVE in ['MEAN','VARMIN','VARMAX','EXTRMIN','EXTRMAX']\n",
    "\n",
    "additional_params = {'tau': tau, 'omega': omega, 'shift': shift, \n",
    "                     'Tf': Tf, 'control_steps': control_steps, 'sim_steps': sim_steps, \n",
    "                     'OBJECTIVE': OBJECTIVE, 'smax': smax}\n",
    "\n",
    "params = {**network_params, **additional_params}\n",
    "nv = params['A'].shape[0]\n",
    "ne = params['E'].shape[1]\n",
    "\n",
    "params"
   ]
  },
  {
   "cell_type": "markdown",
   "id": "99593690-6cf4-4a37-b9f7-13de47aed949",
   "metadata": {
    "tags": []
   },
   "source": [
    "## Check Relaxation Time\n",
    "\n",
    "You want the minimum relaxation time (which is greater than zero) to be greater than your simulation discretization time (which is one hour in our case).\n",
    "\n",
    "1. US Election - relaxation time min = 7.3e-3  hours, 25% = 4.0  hours, 50% = 23.2 hours\n",
    "\n",
    "2. Gilets Jaunes - relaxation time min = 5.1e-3 hours, 25% = 1.1 hours, 50% = 2.55 hours\n"
   ]
  },
  {
   "cell_type": "code",
   "execution_count": 4,
   "id": "471111c8-a894-4a29-865e-ab4236fb312d",
   "metadata": {},
   "outputs": [
    {
     "name": "stderr",
     "output_type": "stream",
     "text": [
      "<ipython-input-4-b08ab4ddde0e>:1: RuntimeWarning: divide by zero encountered in divide\n",
      "  relaxation_time_hrs = pd.Series(24/(params['omega']*params['rates']@params['A']))\n"
     ]
    },
    {
     "data": {
      "text/plain": [
       "count    7.756300e+04\n",
       "mean              inf\n",
       "std               NaN\n",
       "min      7.308674e-02\n",
       "25%      3.897970e+01\n",
       "50%      2.318266e+02\n",
       "75%      7.488000e+03\n",
       "max               inf\n",
       "dtype: float64"
      ]
     },
     "execution_count": 4,
     "metadata": {},
     "output_type": "execute_result"
    }
   ],
   "source": [
    "relaxation_time_hrs = pd.Series(24/(params['omega']*params['rates']@params['A']))\n",
    "relaxation_time_hrs[relaxation_time_hrs>0].describe()"
   ]
  },
  {
   "cell_type": "markdown",
   "id": "fd0069d7-d3fb-4d9a-831d-1a9ee4a1a730",
   "metadata": {
    "tags": []
   },
   "source": [
    "# Optimize by LP and Simulate by RK\n",
    "\n",
    "1. Optimize control by linear programming for `control_steps` control intervals\n",
    "2. Solve state ivp by Runge-Kutta method for `sim_steps` within each control interval"
   ]
  },
  {
   "cell_type": "code",
   "execution_count": null,
   "id": "17cb8a4a-e88a-471b-bf74-142de35855a5",
   "metadata": {},
   "outputs": [
    {
     "name": "stdout",
     "output_type": "stream",
     "text": [
      "Took 28.02 mins to simulate no ban\n",
      "Took 43.33 mins to simulate ban VARMIN smax = 0.0\n"
     ]
    }
   ],
   "source": [
    "%%time\n",
    "\n",
    "# no ban\n",
    "start_time = time.time()\n",
    "env_no_ban = OpinionSimulatorContinuous(params, False)\n",
    "Opinions_no_ban, Controls_no_ban = opinion_simulation_list(env_no_ban)\n",
    "print(f\"Took {(time.time()-start_time)/60:.2f} mins to simulate no ban\")\n",
    "\n",
    "T = np.linspace(0, Tf, sim_steps*control_steps + 1) # for plots\n",
    "\n",
    "# for OBJECTIVE in ['MEAN']:\n",
    "# for OBJECTIVE in ['VARMAX']:\n",
    "for OBJECTIVE in ['VARMIN']:\n",
    "    params['OBJECTIVE'] = OBJECTIVE\n",
    "    \n",
    "    # objective of no ban\n",
    "    obj_no_ban = cost_sim(OBJECTIVE, Opinions_no_ban, Controls_no_ban)\n",
    "\n",
    "    # plot no ban\n",
    "    plt.figure(figsize = (8,6))\n",
    "    plot_opinion_quantiles(T, Opinions_no_ban, U=Controls_no_ban)\n",
    "    # plot_opinions(T, Opinions_no_ban)\n",
    "    plt.ylim(-0.1, 1.1)\n",
    "    plt.title(f\"No Shadow Ban {OBJECTIVE} = {obj_no_ban:.4f}\")\n",
    "    plt.savefig(f\"results/{params['data_name']}/No Shadow Ban {OBJECTIVE}.jpg\", format=\"jpg\")\n",
    "    \n",
    "    # save no ban\n",
    "    np.savez(f\"results/{params['data_name']}/No Shadow Ban {OBJECTIVE}.npz\", \n",
    "             OBJECTIVE=params['OBJECTIVE'], tau=tau, omega=omega, Tf=Tf, T=T, obj=obj_no_ban, Opinions=Opinions_no_ban)\n",
    "        \n",
    "    # smax sensitivity\n",
    "    smax_range = np.arange(0.0, 1.1, 0.25)\n",
    "    objs_ban = []\n",
    "    means_ban = [] # bubble size\n",
    "    for smax in smax_range:\n",
    "        params['smax'] = smax\n",
    "\n",
    "        # shadow ban\n",
    "        start_time = time.time()\n",
    "        env_ban = OpinionSimulatorContinuous(params, True)\n",
    "        Opinions_ban, Controls_ban = opinion_simulation_list(env_ban)\n",
    "        obj_ban = cost_sim(OBJECTIVE, Opinions_ban, Controls_ban)\n",
    "\n",
    "        print(f\"Took {(time.time()-start_time)/60:.2f} mins to simulate ban {OBJECTIVE} smax = {smax}\")\n",
    "\n",
    "        mean_control = np.mean(Controls_ban)\n",
    "        \n",
    "        objs_ban.append(obj_ban)\n",
    "        means_ban.append(1-mean_control)\n",
    "        \n",
    "        # plot smax == 0.5\n",
    "        if smax == 0.5:\n",
    "            plt.figure(figsize = (8,6))\n",
    "            plot_opinion_quantiles(T, Opinions_ban, U=Controls_ban)\n",
    "            # plot_opinions(T, Opinions_ban)\n",
    "            plt.ylim(-0.1, 1.1)\n",
    "            plt.title(f\"Shadow Ban {OBJECTIVE} = {obj_ban:.4f}\")\n",
    "            plt.savefig(f\"results/{params['data_name']}/Shadow Ban {OBJECTIVE}.jpg\", format=\"jpg\")            \n",
    "\n",
    "            # density distribution shift\n",
    "            plt.figure(figsize = (8,6))\n",
    "            plot_density(Opinions_ban)\n",
    "            plt.xlabel('Opinion')\n",
    "            plt.ylabel('Kernel Density')\n",
    "            plt.title('Opinion Density Distribution')\n",
    "            plt.savefig(f\"results/{params['data_name']}/Opinion Density {OBJECTIVE}.jpg\", format=\"jpg\")            \n",
    "            \n",
    "            # mean ban vs. time\n",
    "            plt.figure(figsize = (8,6))\n",
    "            mean_control_time = np.mean(Controls_ban, axis=1)\n",
    "            T_plot = np.linspace(0,Tf,mean_control_time.shape[0])\n",
    "            plt.plot(T_plot, 1-mean_control_time, '.-', color = 'red', label='Mean Shadow Ban')\n",
    "            plt.grid()\n",
    "            plt.xlabel(\"Time [days]\")\n",
    "            plt.ylabel(\"Mean Shadow Ban Strength\")\n",
    "            plt.title(f\"Optimal Shadow Ban\")\n",
    "            plt.savefig(f\"results/{params['data_name']}/Optimal Shadow Ban {OBJECTIVE}.jpg\", format=\"jpg\")\n",
    "            \n",
    "        # save shadow ban\n",
    "        np.savez(f\"results/{params['data_name']}/Shadow Ban {params['OBJECTIVE']}_smax={params['smax']}.npz\", \n",
    "                 OBJECTIVE=params['OBJECTIVE'], tau=tau, omega=omega, Tf=Tf, T=T, obj=obj_no_ban, Opinions=Opinions_no_ban)\n",
    "            \n",
    "    # plot smax sensitivity\n",
    "    plt.figure(figsize = (8,6))\n",
    "    plot_smax_sens(smax_range, objs_ban, means_ban)\n",
    "    plt.xlabel(\"Shadow Ban Limit or smax\")\n",
    "    plt.ylabel(f\"{OBJECTIVE}\")\n",
    "    plt.title(f\"Shadow Ban Limit Sensitivity\")\n",
    "    plt.savefig(f\"results/{params['data_name']}/Shadow Ban Limit Sensitivity {OBJECTIVE}.jpg\", format=\"jpg\")            \n",
    "    \n",
    "    plt.show()\n",
    "    \n",
    "    \n",
    "# Get memory usage\n",
    "memory = psutil.virtual_memory()\n",
    "print(\"Memory usage:\", memory.used/10**6, \"mega bytes\")\n",
    "\n",
    "# Get CPU usage\n",
    "cpu_percent = psutil.cpu_percent(interval=10)\n",
    "print(\"CPU usage:\", cpu_percent, \"%\")"
   ]
  },
  {
   "cell_type": "code",
   "execution_count": 47,
   "id": "ac82e455-c4cb-4b86-a02e-50f8b987be5a",
   "metadata": {},
   "outputs": [],
   "source": [
    "data = np.load('results/US Election/No Shadow Ban VARMIN.npz')"
   ]
  },
  {
   "cell_type": "code",
   "execution_count": 48,
   "id": "73c55127-1778-4610-a104-d528325574b3",
   "metadata": {},
   "outputs": [
    {
     "data": {
      "text/plain": [
       "array(0.0310011)"
      ]
     },
     "execution_count": 48,
     "metadata": {},
     "output_type": "execute_result"
    }
   ],
   "source": [
    "data['obj']"
   ]
  },
  {
   "cell_type": "code",
   "execution_count": null,
   "id": "2b00247a-05d9-46c1-af3b-bf6ada279ca2",
   "metadata": {},
   "outputs": [],
   "source": []
  }
 ],
 "metadata": {
  "kernelspec": {
   "display_name": "Python 3",
   "language": "python",
   "name": "python3"
  },
  "language_info": {
   "codemirror_mode": {
    "name": "ipython",
    "version": 3
   },
   "file_extension": ".py",
   "mimetype": "text/x-python",
   "name": "python",
   "nbconvert_exporter": "python",
   "pygments_lexer": "ipython3",
   "version": "3.8.8"
  },
  "toc-autonumbering": true,
  "toc-showcode": false,
  "toc-showmarkdowntxt": false,
  "toc-showtags": false
 },
 "nbformat": 4,
 "nbformat_minor": 5
}
